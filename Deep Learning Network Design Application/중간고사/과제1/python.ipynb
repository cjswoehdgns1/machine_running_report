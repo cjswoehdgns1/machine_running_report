{
 "cells": [
  {
   "cell_type": "code",
   "execution_count": 1,
   "id": "5b3560d7",
   "metadata": {},
   "outputs": [
    {
     "data": {
      "text/plain": [
       "int"
      ]
     },
     "execution_count": 1,
     "metadata": {},
     "output_type": "execute_result"
    }
   ],
   "source": [
    "type(100)"
   ]
  },
  {
   "cell_type": "code",
   "execution_count": 2,
   "id": "801d1d10",
   "metadata": {},
   "outputs": [
    {
     "data": {
      "text/plain": [
       "float"
      ]
     },
     "execution_count": 2,
     "metadata": {},
     "output_type": "execute_result"
    }
   ],
   "source": [
    "type(100.0)"
   ]
  },
  {
   "cell_type": "code",
   "execution_count": 3,
   "id": "467aaf80",
   "metadata": {},
   "outputs": [
    {
     "data": {
      "text/plain": [
       "str"
      ]
     },
     "execution_count": 3,
     "metadata": {},
     "output_type": "execute_result"
    }
   ],
   "source": [
    "type('dotmill')"
   ]
  },
  {
   "cell_type": "code",
   "execution_count": 4,
   "id": "6d11c457",
   "metadata": {},
   "outputs": [
    {
     "data": {
      "text/plain": [
       "list"
      ]
     },
     "execution_count": 4,
     "metadata": {},
     "output_type": "execute_result"
    }
   ],
   "source": [
    "type(['abc', 123])"
   ]
  },
  {
   "cell_type": "code",
   "execution_count": 5,
   "id": "98c78bc6",
   "metadata": {},
   "outputs": [
    {
     "data": {
      "text/plain": [
       "tuple"
      ]
     },
     "execution_count": 5,
     "metadata": {},
     "output_type": "execute_result"
    }
   ],
   "source": [
    "type(('abc', 123))"
   ]
  },
  {
   "cell_type": "code",
   "execution_count": 6,
   "id": "64f334e2",
   "metadata": {},
   "outputs": [],
   "source": [
    "dict_ex = {'name': 'kim', 'number': 100}"
   ]
  },
  {
   "cell_type": "code",
   "execution_count": 7,
   "id": "f9405999",
   "metadata": {},
   "outputs": [
    {
     "data": {
      "text/plain": [
       "dict"
      ]
     },
     "execution_count": 7,
     "metadata": {},
     "output_type": "execute_result"
    }
   ],
   "source": [
    "type(dict_ex)"
   ]
  },
  {
   "cell_type": "code",
   "execution_count": 8,
   "id": "9a949a5f",
   "metadata": {},
   "outputs": [
    {
     "name": "stdout",
     "output_type": "stream",
     "text": [
      "2.0\n",
      "<class 'float'>\n"
     ]
    }
   ],
   "source": [
    "add_num = 1 + 1.0\n",
    "print(add_num)\n",
    "print(type(add_num))"
   ]
  },
  {
   "cell_type": "code",
   "execution_count": 9,
   "id": "57ab0825",
   "metadata": {},
   "outputs": [
    {
     "name": "stdout",
     "output_type": "stream",
     "text": [
      "float_num 2.5\n",
      "<class 'float'>\n",
      "int_num 2\n",
      "<class 'int'>\n"
     ]
    }
   ],
   "source": [
    "float_num = 2.5\n",
    "print(\"float_num\", float_num)\n",
    "print(type(float_num))\n",
    "\n",
    "int_num= int(float_num)\n",
    "print(\"int_num\", int_num)\n",
    "print(type(int_num))"
   ]
  },
  {
   "cell_type": "code",
   "execution_count": 10,
   "id": "c714f4d2",
   "metadata": {},
   "outputs": [
    {
     "name": "stdout",
     "output_type": "stream",
     "text": [
      "Hello World 2021\n"
     ]
    }
   ],
   "source": [
    "print(\"Hello World\", 2021)"
   ]
  },
  {
   "cell_type": "code",
   "execution_count": 11,
   "id": "b0656cf8",
   "metadata": {},
   "outputs": [
    {
     "ename": "TypeError",
     "evalue": "can only concatenate str (not \"int\") to str",
     "output_type": "error",
     "traceback": [
      "\u001b[1;31m---------------------------------------------------------------------------\u001b[0m",
      "\u001b[1;31mTypeError\u001b[0m                                 Traceback (most recent call last)",
      "\u001b[1;32m~\\AppData\\Local\\Temp\\ipykernel_7932\\674368519.py\u001b[0m in \u001b[0;36m<module>\u001b[1;34m\u001b[0m\n\u001b[1;32m----> 1\u001b[1;33m \u001b[0mprint\u001b[0m\u001b[1;33m(\u001b[0m\u001b[1;34m\"Hello World\"\u001b[0m \u001b[1;33m+\u001b[0m \u001b[1;36m2021\u001b[0m\u001b[1;33m)\u001b[0m\u001b[1;33m\u001b[0m\u001b[1;33m\u001b[0m\u001b[0m\n\u001b[0m",
      "\u001b[1;31mTypeError\u001b[0m: can only concatenate str (not \"int\") to str"
     ]
    }
   ],
   "source": [
    "print(\"Hello World\" + 2021)"
   ]
  },
  {
   "cell_type": "code",
   "execution_count": 12,
   "id": "e9fe30b9",
   "metadata": {},
   "outputs": [
    {
     "name": "stdout",
     "output_type": "stream",
     "text": [
      "Hello World 2021\n"
     ]
    }
   ],
   "source": [
    "print(\"Hello World \" + str(2021))"
   ]
  },
  {
   "cell_type": "code",
   "execution_count": 13,
   "id": "c81902c2",
   "metadata": {},
   "outputs": [
    {
     "name": "stdout",
     "output_type": "stream",
     "text": [
      "weight=23.591 kg\n"
     ]
    }
   ],
   "source": [
    "x=23.591\n",
    "print('weight={0} kg'.format(x))"
   ]
  },
  {
   "cell_type": "code",
   "execution_count": 14,
   "id": "1c26099f",
   "metadata": {},
   "outputs": [
    {
     "name": "stdout",
     "output_type": "stream",
     "text": [
      "height=59, weight=23.591 kg\n"
     ]
    }
   ],
   "source": [
    "x=23.591\n",
    "y=59\n",
    "print('height={0}, weight={1} kg'.format(y, x))"
   ]
  },
  {
   "cell_type": "code",
   "execution_count": 15,
   "id": "2e9c6a98",
   "metadata": {},
   "outputs": [
    {
     "name": "stdout",
     "output_type": "stream",
     "text": [
      "height=hel  , weight=23.6 kg\n",
      "height=00059, weight=23.6 kg\n",
      "weight= 23.6\n"
     ]
    }
   ],
   "source": [
    "print('height={0:5}, weight={1:.1f} kg'.format(\"hel\", x))\n",
    "print('height={0:05}, weight={1:.1f} kg'.format(y, x))\n",
    "print('weight={0:5.1f}'.format(x))"
   ]
  },
  {
   "cell_type": "code",
   "execution_count": 16,
   "id": "21dfedc1",
   "metadata": {},
   "outputs": [
    {
     "name": "stdout",
     "output_type": "stream",
     "text": [
      "23.591\n",
      "weight= 23.6\n",
      "<class 'str'>\n"
     ]
    }
   ],
   "source": [
    "x_string=\"weight={0:5.1f}\".format(x)\n",
    "print(x)\n",
    "print(x_string)\n",
    "print(type(x_string))"
   ]
  },
  {
   "cell_type": "code",
   "execution_count": 17,
   "id": "733b6edd",
   "metadata": {},
   "outputs": [],
   "source": [
    "list_ex = [1, 'abc', 1.07]"
   ]
  },
  {
   "cell_type": "code",
   "execution_count": 18,
   "id": "37bcb98d",
   "metadata": {},
   "outputs": [
    {
     "data": {
      "text/plain": [
       "[1, 'abc', 1.07]"
      ]
     },
     "execution_count": 18,
     "metadata": {},
     "output_type": "execute_result"
    }
   ],
   "source": [
    "list_ex"
   ]
  },
  {
   "cell_type": "code",
   "execution_count": 19,
   "id": "0cb0a901",
   "metadata": {},
   "outputs": [
    {
     "data": {
      "text/plain": [
       "1"
      ]
     },
     "execution_count": 19,
     "metadata": {},
     "output_type": "execute_result"
    }
   ],
   "source": [
    "list_ex[0]"
   ]
  },
  {
   "cell_type": "code",
   "execution_count": 20,
   "id": "7b9f9289",
   "metadata": {},
   "outputs": [
    {
     "data": {
      "text/plain": [
       "3"
      ]
     },
     "execution_count": 20,
     "metadata": {},
     "output_type": "execute_result"
    }
   ],
   "source": [
    "len(list_ex)"
   ]
  },
  {
   "cell_type": "code",
   "execution_count": 21,
   "id": "4a0977aa",
   "metadata": {},
   "outputs": [],
   "source": [
    "list_ex.append(3.14)"
   ]
  },
  {
   "cell_type": "code",
   "execution_count": 22,
   "id": "c988e713",
   "metadata": {},
   "outputs": [
    {
     "data": {
      "text/plain": [
       "4"
      ]
     },
     "execution_count": 22,
     "metadata": {},
     "output_type": "execute_result"
    }
   ],
   "source": [
    "len(list_ex)"
   ]
  },
  {
   "cell_type": "code",
   "execution_count": 23,
   "id": "00016a81",
   "metadata": {},
   "outputs": [
    {
     "name": "stdout",
     "output_type": "stream",
     "text": [
      "['abc', 1.07, 3.14]\n"
     ]
    }
   ],
   "source": [
    "del list_ex[0]\n",
    "print(list_ex)"
   ]
  },
  {
   "cell_type": "code",
   "execution_count": 24,
   "id": "84094d62",
   "metadata": {},
   "outputs": [
    {
     "name": "stdout",
     "output_type": "stream",
     "text": [
      "['abc', 3.14]\n"
     ]
    }
   ],
   "source": [
    "list_ex.remove(1.07)\n",
    "print(list_ex)"
   ]
  },
  {
   "cell_type": "code",
   "execution_count": 25,
   "id": "aa7dea23",
   "metadata": {},
   "outputs": [
    {
     "name": "stdout",
     "output_type": "stream",
     "text": [
      "['abc']\n"
     ]
    }
   ],
   "source": [
    "list_ex.pop()\n",
    "print(list_ex)"
   ]
  },
  {
   "cell_type": "code",
   "execution_count": 26,
   "id": "eb84ec6f",
   "metadata": {},
   "outputs": [],
   "source": [
    "y = range(5, 10)"
   ]
  },
  {
   "cell_type": "code",
   "execution_count": 27,
   "id": "7f308e8d",
   "metadata": {},
   "outputs": [
    {
     "name": "stdout",
     "output_type": "stream",
     "text": [
      "range(5, 10)\n"
     ]
    }
   ],
   "source": [
    "print(y)"
   ]
  },
  {
   "cell_type": "code",
   "execution_count": 28,
   "id": "b905da82",
   "metadata": {},
   "outputs": [
    {
     "name": "stdout",
     "output_type": "stream",
     "text": [
      "5 6 7 8 9\n"
     ]
    }
   ],
   "source": [
    "print(y[0], y[1], y[2], y[3], y[4])"
   ]
  },
  {
   "cell_type": "code",
   "execution_count": 29,
   "id": "920ca5ff",
   "metadata": {
    "scrolled": true
   },
   "outputs": [
    {
     "name": "stdout",
     "output_type": "stream",
     "text": [
      "(1, 2, 3)\n"
     ]
    }
   ],
   "source": [
    "a=(1,2,3)\n",
    "print(a)"
   ]
  },
  {
   "cell_type": "code",
   "execution_count": 30,
   "id": "362e2545",
   "metadata": {},
   "outputs": [
    {
     "data": {
      "text/plain": [
       "2"
      ]
     },
     "execution_count": 30,
     "metadata": {},
     "output_type": "execute_result"
    }
   ],
   "source": [
    "a[1]"
   ]
  },
  {
   "cell_type": "code",
   "execution_count": 31,
   "id": "b2a7a495",
   "metadata": {},
   "outputs": [
    {
     "ename": "TypeError",
     "evalue": "'tuple' object does not support item assignment",
     "output_type": "error",
     "traceback": [
      "\u001b[1;31m---------------------------------------------------------------------------\u001b[0m",
      "\u001b[1;31mTypeError\u001b[0m                                 Traceback (most recent call last)",
      "\u001b[1;32m~\\AppData\\Local\\Temp\\ipykernel_7932\\1850189777.py\u001b[0m in \u001b[0;36m<module>\u001b[1;34m\u001b[0m\n\u001b[1;32m----> 1\u001b[1;33m \u001b[0ma\u001b[0m\u001b[1;33m[\u001b[0m\u001b[1;36m1\u001b[0m\u001b[1;33m]\u001b[0m \u001b[1;33m=\u001b[0m \u001b[1;36m3\u001b[0m\u001b[1;33m\u001b[0m\u001b[1;33m\u001b[0m\u001b[0m\n\u001b[0m",
      "\u001b[1;31mTypeError\u001b[0m: 'tuple' object does not support item assignment"
     ]
    }
   ],
   "source": [
    "a[1] = 3"
   ]
  },
  {
   "cell_type": "code",
   "execution_count": 33,
   "id": "5719f465",
   "metadata": {},
   "outputs": [
    {
     "data": {
      "text/plain": [
       "int"
      ]
     },
     "execution_count": 33,
     "metadata": {},
     "output_type": "execute_result"
    }
   ],
   "source": [
    "a = (1)\n",
    "type(a)"
   ]
  },
  {
   "cell_type": "code",
   "execution_count": 34,
   "id": "e5a89283",
   "metadata": {},
   "outputs": [
    {
     "data": {
      "text/plain": [
       "tuple"
      ]
     },
     "execution_count": 34,
     "metadata": {},
     "output_type": "execute_result"
    }
   ],
   "source": [
    "a = (1,)\n",
    "type(a)"
   ]
  },
  {
   "cell_type": "code",
   "execution_count": 35,
   "id": "c4ad454b",
   "metadata": {},
   "outputs": [],
   "source": [
    "dict_exam = {\"이름\": \"김숭실\", \"주소\": \"상도로 369\"}"
   ]
  },
  {
   "cell_type": "code",
   "execution_count": 36,
   "id": "fc84d3b5",
   "metadata": {},
   "outputs": [
    {
     "data": {
      "text/plain": [
       "{'이름': '김숭실', '주소': '상도로 369'}"
      ]
     },
     "execution_count": 36,
     "metadata": {},
     "output_type": "execute_result"
    }
   ],
   "source": [
    "dict_exam"
   ]
  },
  {
   "cell_type": "code",
   "execution_count": 37,
   "id": "426a8552",
   "metadata": {},
   "outputs": [
    {
     "name": "stdout",
     "output_type": "stream",
     "text": [
      "김숭실\n"
     ]
    }
   ],
   "source": [
    "print(dict_exam[\"이름\"])"
   ]
  },
  {
   "cell_type": "code",
   "execution_count": 38,
   "id": "cf8f9e15",
   "metadata": {},
   "outputs": [
    {
     "name": "stdout",
     "output_type": "stream",
     "text": [
      "상도로 369\n"
     ]
    }
   ],
   "source": [
    "print(dict_exam[\"주소\"])"
   ]
  },
  {
   "cell_type": "code",
   "execution_count": 39,
   "id": "02467425",
   "metadata": {},
   "outputs": [
    {
     "name": "stdout",
     "output_type": "stream",
     "text": [
      "dict_keys(['이름', '주소'])\n"
     ]
    }
   ],
   "source": [
    "print(dict_exam.keys())"
   ]
  },
  {
   "cell_type": "code",
   "execution_count": 40,
   "id": "29e0069e",
   "metadata": {},
   "outputs": [],
   "source": [
    "dict_exam2 = {\"name\": \"김숭실\", \"addr\": 369, \"build\": [\"웨스트민스터홀\", \"벤처관\"]}"
   ]
  },
  {
   "cell_type": "code",
   "execution_count": 41,
   "id": "e2688c5c",
   "metadata": {},
   "outputs": [
    {
     "data": {
      "text/plain": [
       "{'name': '김숭실', 'addr': 369, 'build': ['웨스트민스터홀', '벤처관']}"
      ]
     },
     "execution_count": 41,
     "metadata": {},
     "output_type": "execute_result"
    }
   ],
   "source": [
    "dict_exam2"
   ]
  },
  {
   "cell_type": "code",
   "execution_count": 42,
   "id": "fdda2c94",
   "metadata": {},
   "outputs": [],
   "source": [
    "dict_in_dict = {\"first\": dict_exam, \"second\": dict_exam2}"
   ]
  },
  {
   "cell_type": "code",
   "execution_count": 43,
   "id": "e42996e6",
   "metadata": {},
   "outputs": [
    {
     "data": {
      "text/plain": [
       "dict_keys(['first', 'second'])"
      ]
     },
     "execution_count": 43,
     "metadata": {},
     "output_type": "execute_result"
    }
   ],
   "source": [
    "dict_in_dict.keys()"
   ]
  },
  {
   "cell_type": "code",
   "execution_count": 44,
   "id": "dc6bca8b",
   "metadata": {},
   "outputs": [
    {
     "data": {
      "text/plain": [
       "{'이름': '김숭실', '주소': '상도로 369'}"
      ]
     },
     "execution_count": 44,
     "metadata": {},
     "output_type": "execute_result"
    }
   ],
   "source": [
    "dict_in_dict[\"first\"]"
   ]
  },
  {
   "cell_type": "code",
   "execution_count": 46,
   "id": "0399c4ae",
   "metadata": {},
   "outputs": [
    {
     "data": {
      "text/plain": [
       "'김숭실'"
      ]
     },
     "execution_count": 46,
     "metadata": {},
     "output_type": "execute_result"
    }
   ],
   "source": [
    "dict_in_dict[\"first\"][\"이름\"]"
   ]
  },
  {
   "cell_type": "code",
   "execution_count": 48,
   "id": "9de85f21",
   "metadata": {},
   "outputs": [
    {
     "name": "stdout",
     "output_type": "stream",
     "text": [
      "10\n",
      "오답\n",
      "프로그램 종료\n"
     ]
    }
   ],
   "source": [
    "number_answer = 23\n",
    "number_input = int(input())\n",
    "\n",
    "if number_answer == number_input:\n",
    "    print('정답')\n",
    "else:\n",
    "    print('오답')\n",
    "print(\"프로그램 종료\")"
   ]
  },
  {
   "cell_type": "code",
   "execution_count": 49,
   "id": "513b05be",
   "metadata": {},
   "outputs": [
    {
     "name": "stdout",
     "output_type": "stream",
     "text": [
      "10\n",
      "프로그램 종료\n"
     ]
    }
   ],
   "source": [
    "number_answer = 23\n",
    "number_input = int(input())\n",
    "\n",
    "if number_answer == number_input:\n",
    "    print('정답')\n",
    "\n",
    "print(\"프로그램 종료\")"
   ]
  },
  {
   "cell_type": "code",
   "execution_count": 50,
   "id": "42681ef7",
   "metadata": {},
   "outputs": [
    {
     "name": "stdout",
     "output_type": "stream",
     "text": [
      "number_2 가 number_1 보다 큽니다\n",
      "프로그램 종료\n"
     ]
    }
   ],
   "source": [
    "number_1 = 10\n",
    "number_2 = 12\n",
    "\n",
    "if number_1 > number_2:\n",
    "    print(\"number_1 이 number_2 보다 큽니다\")\n",
    "elif number_1 < number_2:\n",
    "    print(\"number_2 가 number_1 보다 큽니다\")\n",
    "else:\n",
    "    print(\"number_1 과 number_2 는 같습니다\")\n",
    "print(\"프로그램 종료\")"
   ]
  },
  {
   "cell_type": "code",
   "execution_count": 51,
   "id": "0f5e53b9",
   "metadata": {},
   "outputs": [
    {
     "name": "stdout",
     "output_type": "stream",
     "text": [
      "정수 입력\n",
      "10\n",
      "0 ~ 10 까지의 합은 55 입니다.\n"
     ]
    }
   ],
   "source": [
    "sum = 0\n",
    "i = 0\n",
    "\n",
    "print(\"정수 입력\")\n",
    "input_number = int(input())\n",
    "\n",
    "while i <= input_number:\n",
    "    sum = sum + i\n",
    "    i = i + 1\n",
    "    \n",
    "print(\"0 ~ {} 까지의 합은 {} 입니다.\".format(input_number, sum))"
   ]
  },
  {
   "cell_type": "code",
   "execution_count": 52,
   "id": "624d7be9",
   "metadata": {},
   "outputs": [
    {
     "name": "stdout",
     "output_type": "stream",
     "text": [
      "정수 입력\n",
      "10\n",
      "0 ~ 10 까지의 합은 55 입니다.\n"
     ]
    }
   ],
   "source": [
    "sum = 0\n",
    "\n",
    "print(\"정수 입력\")\n",
    "input_number = int(input())\n",
    "\n",
    "for i in range(input_number+1):\n",
    "    sum = sum + i\n",
    "    i = i + 1\n",
    "    \n",
    "print(\"0 ~ {} 까지의 합은 {} 입니다.\".format(input_number, sum))"
   ]
  },
  {
   "cell_type": "code",
   "execution_count": 53,
   "id": "308d8512",
   "metadata": {},
   "outputs": [
    {
     "name": "stdout",
     "output_type": "stream",
     "text": [
      "[4, 8, 12, 16, 20]\n"
     ]
    }
   ],
   "source": [
    "num = [2,4,6,8,10]\n",
    "\n",
    "for i in range(len(num)):\n",
    "    num[i] = num[i]*2\n",
    "    \n",
    "print(num)"
   ]
  },
  {
   "cell_type": "code",
   "execution_count": 54,
   "id": "a08676ae",
   "metadata": {},
   "outputs": [
    {
     "name": "stdout",
     "output_type": "stream",
     "text": [
      "[4, 8, 12, 16, 20]\n"
     ]
    }
   ],
   "source": [
    "num = [2,4,6,8,10]\n",
    "\n",
    "for i, n in enumerate(num):\n",
    "    num[i] = n*2\n",
    "    \n",
    "print(num)"
   ]
  },
  {
   "cell_type": "code",
   "execution_count": 55,
   "id": "01630ce2",
   "metadata": {},
   "outputs": [
    {
     "name": "stdout",
     "output_type": "stream",
     "text": [
      "[2, 4, 6, 8, 10]\n"
     ]
    }
   ],
   "source": [
    "num = [2,4,6,8,10]\n",
    "num_new = []\n",
    "\n",
    "for n in num:\n",
    "    num_new.append(n * 2)\n",
    "    \n",
    "print(num)"
   ]
  },
  {
   "cell_type": "code",
   "execution_count": 56,
   "id": "59f73696",
   "metadata": {},
   "outputs": [],
   "source": [
    "result = [1, 2] + [3, 4]"
   ]
  },
  {
   "cell_type": "code",
   "execution_count": 57,
   "id": "58bf3f60",
   "metadata": {},
   "outputs": [
    {
     "name": "stdout",
     "output_type": "stream",
     "text": [
      "[1, 2, 3, 4]\n"
     ]
    }
   ],
   "source": [
    "print(result)"
   ]
  },
  {
   "cell_type": "code",
   "execution_count": 58,
   "id": "ada6a28f",
   "metadata": {},
   "outputs": [
    {
     "data": {
      "text/plain": [
       "'1.19.5'"
      ]
     },
     "execution_count": 58,
     "metadata": {},
     "output_type": "execute_result"
    }
   ],
   "source": [
    "import numpy as np\n",
    "np.__version__"
   ]
  },
  {
   "cell_type": "code",
   "execution_count": 59,
   "id": "15fa4a95",
   "metadata": {},
   "outputs": [
    {
     "data": {
      "text/plain": [
       "array([1, 2, 3])"
      ]
     },
     "execution_count": 59,
     "metadata": {},
     "output_type": "execute_result"
    }
   ],
   "source": [
    "x=np.array([1, 2, 3])\n",
    "x"
   ]
  },
  {
   "cell_type": "code",
   "execution_count": 60,
   "id": "44aa8f78",
   "metadata": {},
   "outputs": [
    {
     "name": "stdout",
     "output_type": "stream",
     "text": [
      "[1 2 3]\n"
     ]
    }
   ],
   "source": [
    "print(x)"
   ]
  },
  {
   "cell_type": "code",
   "execution_count": 61,
   "id": "94480f94",
   "metadata": {},
   "outputs": [
    {
     "data": {
      "text/plain": [
       "numpy.ndarray"
      ]
     },
     "execution_count": 61,
     "metadata": {},
     "output_type": "execute_result"
    }
   ],
   "source": [
    "type(x)"
   ]
  },
  {
   "cell_type": "code",
   "execution_count": 62,
   "id": "7a003a57",
   "metadata": {},
   "outputs": [
    {
     "data": {
      "text/plain": [
       "(3,)"
      ]
     },
     "execution_count": 62,
     "metadata": {},
     "output_type": "execute_result"
    }
   ],
   "source": [
    "x.shape"
   ]
  },
  {
   "cell_type": "code",
   "execution_count": 63,
   "id": "e408fa9f",
   "metadata": {},
   "outputs": [
    {
     "name": "stdout",
     "output_type": "stream",
     "text": [
      "[5 7 9]\n"
     ]
    }
   ],
   "source": [
    "x=np.array([1, 2, 3])\n",
    "y=np.array([4, 5, 6])\n",
    "print(x + y)"
   ]
  },
  {
   "cell_type": "code",
   "execution_count": 64,
   "id": "c1ff692b",
   "metadata": {},
   "outputs": [
    {
     "data": {
      "text/plain": [
       "1"
      ]
     },
     "execution_count": 64,
     "metadata": {},
     "output_type": "execute_result"
    }
   ],
   "source": [
    "x[0]"
   ]
  },
  {
   "cell_type": "code",
   "execution_count": 65,
   "id": "ba629c66",
   "metadata": {},
   "outputs": [
    {
     "data": {
      "text/plain": [
       "6"
      ]
     },
     "execution_count": 65,
     "metadata": {},
     "output_type": "execute_result"
    }
   ],
   "source": [
    "y[2]"
   ]
  },
  {
   "cell_type": "code",
   "execution_count": 67,
   "id": "5f982be2",
   "metadata": {},
   "outputs": [
    {
     "name": "stdout",
     "output_type": "stream",
     "text": [
      "[4 5 7]\n"
     ]
    }
   ],
   "source": [
    "y[2] = 7\n",
    "print(y)"
   ]
  },
  {
   "cell_type": "code",
   "execution_count": 68,
   "id": "9ab2600f",
   "metadata": {},
   "outputs": [
    {
     "name": "stdout",
     "output_type": "stream",
     "text": [
      "[0 1 2 3 4 5 6 7 8 9]\n"
     ]
    }
   ],
   "source": [
    "print(np.arange(10))"
   ]
  },
  {
   "cell_type": "code",
   "execution_count": 69,
   "id": "c34b4f45",
   "metadata": {},
   "outputs": [
    {
     "name": "stdout",
     "output_type": "stream",
     "text": [
      "a=[1 1]\n",
      "b=[1 1]\n",
      "a=[100   1]\n",
      "b=[100   1]\n"
     ]
    }
   ],
   "source": [
    "a = np.array([1,1])\n",
    "b=a\n",
    "print('a=' + str(a))\n",
    "print('b=' + str(b))\n",
    "b[0] = 100\n",
    "print('a=' + str(a))\n",
    "print('b=' + str(b))"
   ]
  },
  {
   "cell_type": "code",
   "execution_count": 70,
   "id": "9304f4ff",
   "metadata": {},
   "outputs": [
    {
     "name": "stdout",
     "output_type": "stream",
     "text": [
      "a=[1 1]\n",
      "b=[1 1]\n",
      "a=[1 1]\n",
      "b=[100   1]\n"
     ]
    }
   ],
   "source": [
    "a = np.array([1,1])\n",
    "b=a.copy()\n",
    "print('a=' + str(a))\n",
    "print('b=' + str(b))\n",
    "b[0] = 100\n",
    "print('a=' + str(a))\n",
    "print('b=' + str(b))"
   ]
  },
  {
   "cell_type": "code",
   "execution_count": 71,
   "id": "ecf73c46",
   "metadata": {},
   "outputs": [
    {
     "name": "stdout",
     "output_type": "stream",
     "text": [
      "[[1, 2, 3], [4, 5, 6]]\n"
     ]
    }
   ],
   "source": [
    "list_x = [[1,2,3],[4,5,6]]\n",
    "print(list_x)"
   ]
  },
  {
   "cell_type": "code",
   "execution_count": 73,
   "id": "cc3a5505",
   "metadata": {},
   "outputs": [
    {
     "name": "stdout",
     "output_type": "stream",
     "text": [
      "[[1 2 3]\n",
      " [4 5 6]]\n"
     ]
    }
   ],
   "source": [
    "x = np.array(list_x)\n",
    "print(x)"
   ]
  },
  {
   "cell_type": "code",
   "execution_count": 76,
   "id": "cf2f449c",
   "metadata": {},
   "outputs": [
    {
     "name": "stdout",
     "output_type": "stream",
     "text": [
      "(2, 3)\n",
      "<class 'tuple'>\n"
     ]
    }
   ],
   "source": [
    "print(x.shape)\n",
    "print(type(x.shape))"
   ]
  },
  {
   "cell_type": "code",
   "execution_count": 77,
   "id": "78a44927",
   "metadata": {},
   "outputs": [
    {
     "name": "stdout",
     "output_type": "stream",
     "text": [
      "2\n",
      "3\n"
     ]
    }
   ],
   "source": [
    "w, h = x.shape\n",
    "print(w)\n",
    "print(h)"
   ]
  },
  {
   "cell_type": "code",
   "execution_count": 78,
   "id": "836bf0e4",
   "metadata": {},
   "outputs": [
    {
     "name": "stdout",
     "output_type": "stream",
     "text": [
      "6\n"
     ]
    }
   ],
   "source": [
    "print(x[1, 2])"
   ]
  },
  {
   "cell_type": "code",
   "execution_count": 79,
   "id": "9e94cf42",
   "metadata": {},
   "outputs": [
    {
     "name": "stdout",
     "output_type": "stream",
     "text": [
      "5 dimensional vector(1D array)\n",
      "[0. 0. 0. 0. 0.]\n",
      "\n",
      "2 x 10 matrix(2D array)\n",
      "[[0. 0. 0. 0. 0. 0. 0. 0. 0. 0.]\n",
      " [0. 0. 0. 0. 0. 0. 0. 0. 0. 0.]]\n",
      "\n",
      "2x3x4 3D array\n",
      "[[[0. 0. 0. 0.]\n",
      "  [0. 0. 0. 0.]\n",
      "  [0. 0. 0. 0.]]\n",
      "\n",
      " [[0. 0. 0. 0.]\n",
      "  [0. 0. 0. 0.]\n",
      "  [0. 0. 0. 0.]]]\n"
     ]
    }
   ],
   "source": [
    "matrix_zeros = np.zeros(5)\n",
    "print(\"5 dimensional vector(1D array)\")\n",
    "print(matrix_zeros)\n",
    "print(\"\")\n",
    "\n",
    "matrix_zeros = np.zeros((2,10))\n",
    "print(\"2 x 10 matrix(2D array)\")\n",
    "print(matrix_zeros)\n",
    "print(\"\")\n",
    "\n",
    "array3d_zeros = np.zeros((2,3,4))\n",
    "print(\"2x3x4 3D array\")\n",
    "print(array3d_zeros)\n"
   ]
  },
  {
   "cell_type": "code",
   "execution_count": 80,
   "id": "6c451309",
   "metadata": {},
   "outputs": [
    {
     "name": "stdout",
     "output_type": "stream",
     "text": [
      "[[0.27483442 0.20541687 0.08545039]\n",
      " [0.51438023 0.93250757 0.84120842]]\n"
     ]
    }
   ],
   "source": [
    "print(np.random.rand(2,3))"
   ]
  },
  {
   "cell_type": "code",
   "execution_count": 81,
   "id": "d4c5f07c",
   "metadata": {},
   "outputs": [
    {
     "name": "stdout",
     "output_type": "stream",
     "text": [
      "[[-0.14080889  0.5743982   0.04072751]\n",
      " [-0.92198701  0.07918772 -1.95496437]]\n"
     ]
    }
   ],
   "source": [
    "print(np.random.randn(2, 3))"
   ]
  },
  {
   "cell_type": "code",
   "execution_count": 82,
   "id": "9cf13dcf",
   "metadata": {},
   "outputs": [
    {
     "name": "stdout",
     "output_type": "stream",
     "text": [
      "[[7 5 1 5 2]\n",
      " [7 1 6 3 5]]\n"
     ]
    }
   ],
   "source": [
    "print(np.random.randint(1, 10, (2,5)))"
   ]
  },
  {
   "cell_type": "code",
   "execution_count": 84,
   "id": "5d933278",
   "metadata": {},
   "outputs": [
    {
     "name": "stdout",
     "output_type": "stream",
     "text": [
      "[0 1 2 3 4 5 6 7 8 9]\n"
     ]
    }
   ],
   "source": [
    "a = np.arange(10)\n",
    "print(a)"
   ]
  },
  {
   "cell_type": "code",
   "execution_count": 86,
   "id": "7c26df58",
   "metadata": {},
   "outputs": [
    {
     "name": "stdout",
     "output_type": "stream",
     "text": [
      "[[0 1 2 3 4]\n",
      " [5 6 7 8 9]]\n"
     ]
    }
   ],
   "source": [
    "b = a.reshape(2, 5)\n",
    "print(b)"
   ]
  },
  {
   "cell_type": "code",
   "execution_count": 87,
   "id": "c253cdb8",
   "metadata": {},
   "outputs": [
    {
     "name": "stdout",
     "output_type": "stream",
     "text": [
      "[0 1 2 3 4 5 6 7 8 9]\n"
     ]
    }
   ],
   "source": [
    "c = b.reshape(10)\n",
    "print(c)"
   ]
  },
  {
   "cell_type": "code",
   "execution_count": 89,
   "id": "61450281",
   "metadata": {},
   "outputs": [
    {
     "name": "stdout",
     "output_type": "stream",
     "text": [
      "x + y = \n",
      " [[ 5  5  5]\n",
      " [10 10 10]]\n",
      "x - y = \n",
      " [[3 3 3]\n",
      " [6 6 6]]\n"
     ]
    }
   ],
   "source": [
    "x = np.array([[4,4,4], [8,8,8]])\n",
    "y = np.array([[1,1,1,], [2,2,2]])\n",
    "\n",
    "print(\"x + y = \\n\", x+y)\n",
    "print(\"x - y = \\n\", x-y)"
   ]
  },
  {
   "cell_type": "code",
   "execution_count": 90,
   "id": "9478a2c5",
   "metadata": {},
   "outputs": [
    {
     "name": "stdout",
     "output_type": "stream",
     "text": [
      "10 * x =\n",
      " [[40 40 40]\n",
      " [80 80 80]]\n"
     ]
    }
   ],
   "source": [
    "print(\"10 * x =\\n\", 10 * x)"
   ]
  },
  {
   "cell_type": "code",
   "execution_count": 92,
   "id": "a2725903",
   "metadata": {},
   "outputs": [
    {
     "name": "stdout",
     "output_type": "stream",
     "text": [
      "v*w=\n",
      " [[14 14]\n",
      " [32 32]]\n"
     ]
    }
   ],
   "source": [
    "v = np.array([[1,2,3], [4,5,6]])\n",
    "w = np.array([[1,1],[2,2],[3,3]])\n",
    "\n",
    "print(\"v*w=\\n\", v.dot(w))"
   ]
  },
  {
   "cell_type": "code",
   "execution_count": 93,
   "id": "6af381cb",
   "metadata": {},
   "outputs": [
    {
     "ename": "ValueError",
     "evalue": "operands could not be broadcast together with shapes (2,3) (3,2) ",
     "output_type": "error",
     "traceback": [
      "\u001b[1;31m---------------------------------------------------------------------------\u001b[0m",
      "\u001b[1;31mValueError\u001b[0m                                Traceback (most recent call last)",
      "\u001b[1;32m~\\AppData\\Local\\Temp\\ipykernel_7932\\1248411469.py\u001b[0m in \u001b[0;36m<module>\u001b[1;34m\u001b[0m\n\u001b[1;32m----> 1\u001b[1;33m \u001b[0mprint\u001b[0m\u001b[1;33m(\u001b[0m\u001b[0mv\u001b[0m\u001b[1;33m*\u001b[0m\u001b[0mw\u001b[0m\u001b[1;33m)\u001b[0m\u001b[1;33m\u001b[0m\u001b[1;33m\u001b[0m\u001b[0m\n\u001b[0m",
      "\u001b[1;31mValueError\u001b[0m: operands could not be broadcast together with shapes (2,3) (3,2) "
     ]
    }
   ],
   "source": [
    "print(v*w)"
   ]
  },
  {
   "cell_type": "code",
   "execution_count": 94,
   "id": "23f4bed2",
   "metadata": {},
   "outputs": [
    {
     "name": "stdout",
     "output_type": "stream",
     "text": [
      "[[ 4  4  4]\n",
      " [16 16 16]]\n"
     ]
    }
   ],
   "source": [
    "print(x * y)"
   ]
  },
  {
   "cell_type": "code",
   "execution_count": 95,
   "id": "db557b56",
   "metadata": {},
   "outputs": [
    {
     "name": "stdout",
     "output_type": "stream",
     "text": [
      "[[4. 4. 4.]\n",
      " [4. 4. 4.]]\n"
     ]
    }
   ],
   "source": [
    "print(x / y)"
   ]
  },
  {
   "cell_type": "code",
   "execution_count": 97,
   "id": "690827fe",
   "metadata": {},
   "outputs": [
    {
     "name": "stdout",
     "output_type": "stream",
     "text": [
      "[0 1 2 3 4 5 6 7 8 9]\n"
     ]
    }
   ],
   "source": [
    "x = np.arange(10)\n",
    "print(x)"
   ]
  },
  {
   "cell_type": "code",
   "execution_count": 98,
   "id": "43f7a97b",
   "metadata": {},
   "outputs": [
    {
     "name": "stdout",
     "output_type": "stream",
     "text": [
      "[0 1 2 3 4]\n"
     ]
    }
   ],
   "source": [
    "print(x[:5])"
   ]
  },
  {
   "cell_type": "code",
   "execution_count": 99,
   "id": "dc8116a6",
   "metadata": {},
   "outputs": [
    {
     "name": "stdout",
     "output_type": "stream",
     "text": [
      "[5 6 7 8 9]\n"
     ]
    }
   ],
   "source": [
    "print(x[5:])"
   ]
  },
  {
   "cell_type": "code",
   "execution_count": 100,
   "id": "596acc01",
   "metadata": {},
   "outputs": [
    {
     "name": "stdout",
     "output_type": "stream",
     "text": [
      "[3 4 5 6 7]\n"
     ]
    }
   ],
   "source": [
    "print(x[3:8])"
   ]
  },
  {
   "cell_type": "code",
   "execution_count": 101,
   "id": "e6d706f0",
   "metadata": {},
   "outputs": [
    {
     "name": "stdout",
     "output_type": "stream",
     "text": [
      "[3 5 7]\n"
     ]
    }
   ],
   "source": [
    "print(x[3:8:2])"
   ]
  },
  {
   "cell_type": "code",
   "execution_count": 102,
   "id": "81e307c7",
   "metadata": {},
   "outputs": [
    {
     "name": "stdout",
     "output_type": "stream",
     "text": [
      "[9 8 7 6 5 4 3 2 1 0]\n"
     ]
    }
   ],
   "source": [
    "print(x[::-1])"
   ]
  },
  {
   "cell_type": "code",
   "execution_count": 103,
   "id": "609ff784",
   "metadata": {},
   "outputs": [
    {
     "name": "stdout",
     "output_type": "stream",
     "text": [
      "y=\n",
      " [[1 2 3]\n",
      " [4 5 6]\n",
      " [7 8 9]]\n",
      "y[:2, 1:2]=\n",
      " [[2]\n",
      " [5]]\n"
     ]
    }
   ],
   "source": [
    "y = np.array([[1,2,3],[4,5,6],[7,8,9]])\n",
    "print(\"y=\\n\", y)\n",
    "print(\"y[:2, 1:2]=\\n\", y[:2, 1:2])"
   ]
  },
  {
   "cell_type": "code",
   "execution_count": 104,
   "id": "163df7bd",
   "metadata": {},
   "outputs": [
    {
     "data": {
      "text/plain": [
       "array([False, False, False, False,  True,  True,  True])"
      ]
     },
     "execution_count": 104,
     "metadata": {},
     "output_type": "execute_result"
    }
   ],
   "source": [
    "x = np.array([1,1,2,3,5,8,13])\n",
    "x>3"
   ]
  },
  {
   "cell_type": "code",
   "execution_count": 105,
   "id": "1907f987",
   "metadata": {},
   "outputs": [
    {
     "data": {
      "text/plain": [
       "array([ 5,  8, 13])"
      ]
     },
     "execution_count": 105,
     "metadata": {},
     "output_type": "execute_result"
    }
   ],
   "source": [
    "x[x>3]"
   ]
  },
  {
   "cell_type": "code",
   "execution_count": 107,
   "id": "c02ba51b",
   "metadata": {},
   "outputs": [
    {
     "name": "stdout",
     "output_type": "stream",
     "text": [
      "[  1   1   2   3 999 999 999]\n"
     ]
    }
   ],
   "source": [
    "x[x>3] = 999\n",
    "print(x)"
   ]
  },
  {
   "cell_type": "code",
   "execution_count": 108,
   "id": "0b8882fd",
   "metadata": {},
   "outputs": [
    {
     "name": "stdout",
     "output_type": "stream",
     "text": [
      "13\n"
     ]
    }
   ],
   "source": [
    "def my_function_f(x):\n",
    "    y = 3 * x + 4\n",
    "    \n",
    "    return y\n",
    "\n",
    "result = my_function_f(3)\n",
    "\n",
    "print(result)"
   ]
  },
  {
   "cell_type": "code",
   "execution_count": 109,
   "id": "c2f65dbe",
   "metadata": {},
   "outputs": [],
   "source": [
    "def my_func3(input_array):\n",
    "    mean = np.mean(input_array)\n",
    "    std = np.std(input_array)\n",
    "    \n",
    "    return mean, std"
   ]
  },
  {
   "cell_type": "code",
   "execution_count": 110,
   "id": "6c22940f",
   "metadata": {},
   "outputs": [
    {
     "name": "stdout",
     "output_type": "stream",
     "text": [
      "mean: -0.03, std:0.99\n"
     ]
    }
   ],
   "source": [
    "data = np.random.randn(1000)\n",
    "data_mean, data_std = my_func3(data)\n",
    "\n",
    "print('mean: {0:3.2f}, std:{1:3.2f}'.format(data_mean, data_std))"
   ]
  },
  {
   "cell_type": "code",
   "execution_count": 111,
   "id": "c99bb509",
   "metadata": {},
   "outputs": [
    {
     "name": "stdout",
     "output_type": "stream",
     "text": [
      "[ 0.02201148  1.23129826 -0.85311274 -1.73398781  0.02370333]\n",
      "[]\n",
      "[ 0.02201148  1.23129826 -0.85311274 -1.73398781  0.02370333]\n"
     ]
    }
   ],
   "source": [
    "data = np.random.randn(5)\n",
    "print(data)\n",
    "np.save('datafile.npy', data)\n",
    "data = []\n",
    "print(data)\n",
    "data = np.load('datafile.npy')\n",
    "print(data)"
   ]
  },
  {
   "cell_type": "code",
   "execution_count": 112,
   "id": "c0996081",
   "metadata": {},
   "outputs": [
    {
     "name": "stdout",
     "output_type": "stream",
     "text": [
      "['data_first', 'data_second']\n"
     ]
    }
   ],
   "source": [
    "data1= np.array([1,2,3])\n",
    "data2= np.array([10,20,30])\n",
    "np.savez('datafile2.npz', data_first=data1, data_second=data2)\n",
    "data1=[]\n",
    "data2=[]\n",
    "outfile = np.load('datafile2.npz')\n",
    "print(outfile.files)"
   ]
  },
  {
   "cell_type": "code",
   "execution_count": 113,
   "id": "b8542ff9",
   "metadata": {},
   "outputs": [
    {
     "data": {
      "text/plain": [
       "numpy.lib.npyio.NpzFile"
      ]
     },
     "execution_count": 113,
     "metadata": {},
     "output_type": "execute_result"
    }
   ],
   "source": [
    "type(outfile)"
   ]
  },
  {
   "cell_type": "code",
   "execution_count": 114,
   "id": "f6a8dbde",
   "metadata": {},
   "outputs": [],
   "source": [
    "data1 = outfile['data_first']\n",
    "data2 = outfile['data_second']"
   ]
  },
  {
   "cell_type": "code",
   "execution_count": 115,
   "id": "c2538281",
   "metadata": {},
   "outputs": [
    {
     "name": "stdout",
     "output_type": "stream",
     "text": [
      "[1 2 3]\n",
      "[10 20 30]\n"
     ]
    }
   ],
   "source": [
    "print(data1)\n",
    "print(data2)"
   ]
  },
  {
   "cell_type": "code",
   "execution_count": null,
   "id": "d6f0e75f",
   "metadata": {},
   "outputs": [],
   "source": []
  },
  {
   "cell_type": "code",
   "execution_count": null,
   "id": "757c8b6a",
   "metadata": {},
   "outputs": [],
   "source": []
  },
  {
   "cell_type": "code",
   "execution_count": null,
   "id": "29a25ce5",
   "metadata": {},
   "outputs": [],
   "source": []
  },
  {
   "cell_type": "code",
   "execution_count": null,
   "id": "11d51e48",
   "metadata": {},
   "outputs": [],
   "source": []
  },
  {
   "cell_type": "code",
   "execution_count": null,
   "id": "6a21268d",
   "metadata": {},
   "outputs": [],
   "source": []
  },
  {
   "cell_type": "code",
   "execution_count": null,
   "id": "19c097c6",
   "metadata": {},
   "outputs": [],
   "source": []
  },
  {
   "cell_type": "code",
   "execution_count": null,
   "id": "5b552d0c",
   "metadata": {},
   "outputs": [],
   "source": []
  },
  {
   "cell_type": "code",
   "execution_count": null,
   "id": "e97edd30",
   "metadata": {},
   "outputs": [],
   "source": []
  },
  {
   "cell_type": "code",
   "execution_count": null,
   "id": "8a69624f",
   "metadata": {},
   "outputs": [],
   "source": []
  },
  {
   "cell_type": "code",
   "execution_count": null,
   "id": "e6347f41",
   "metadata": {},
   "outputs": [],
   "source": []
  },
  {
   "cell_type": "code",
   "execution_count": null,
   "id": "9c7acc11",
   "metadata": {},
   "outputs": [],
   "source": []
  },
  {
   "cell_type": "code",
   "execution_count": null,
   "id": "620d84f0",
   "metadata": {},
   "outputs": [],
   "source": []
  },
  {
   "cell_type": "code",
   "execution_count": null,
   "id": "e0422e44",
   "metadata": {},
   "outputs": [],
   "source": []
  },
  {
   "cell_type": "code",
   "execution_count": null,
   "id": "28c62122",
   "metadata": {},
   "outputs": [],
   "source": []
  },
  {
   "cell_type": "code",
   "execution_count": null,
   "id": "7f404023",
   "metadata": {},
   "outputs": [],
   "source": []
  },
  {
   "cell_type": "code",
   "execution_count": null,
   "id": "01810c35",
   "metadata": {},
   "outputs": [],
   "source": []
  },
  {
   "cell_type": "code",
   "execution_count": null,
   "id": "30c96319",
   "metadata": {},
   "outputs": [],
   "source": []
  },
  {
   "cell_type": "code",
   "execution_count": null,
   "id": "8ad4518e",
   "metadata": {},
   "outputs": [],
   "source": []
  },
  {
   "cell_type": "code",
   "execution_count": null,
   "id": "97c07753",
   "metadata": {},
   "outputs": [],
   "source": []
  },
  {
   "cell_type": "code",
   "execution_count": null,
   "id": "c5511f01",
   "metadata": {},
   "outputs": [],
   "source": []
  },
  {
   "cell_type": "code",
   "execution_count": null,
   "id": "84bc8f98",
   "metadata": {},
   "outputs": [],
   "source": []
  },
  {
   "cell_type": "code",
   "execution_count": null,
   "id": "cb842e7a",
   "metadata": {},
   "outputs": [],
   "source": []
  },
  {
   "cell_type": "code",
   "execution_count": null,
   "id": "bcf4e4d8",
   "metadata": {},
   "outputs": [],
   "source": []
  },
  {
   "cell_type": "code",
   "execution_count": null,
   "id": "fbf78d13",
   "metadata": {},
   "outputs": [],
   "source": []
  }
 ],
 "metadata": {
  "kernelspec": {
   "display_name": "Python 3 (ipykernel)",
   "language": "python",
   "name": "python3"
  },
  "language_info": {
   "codemirror_mode": {
    "name": "ipython",
    "version": 3
   },
   "file_extension": ".py",
   "mimetype": "text/x-python",
   "name": "python",
   "nbconvert_exporter": "python",
   "pygments_lexer": "ipython3",
   "version": "3.7.11"
  }
 },
 "nbformat": 4,
 "nbformat_minor": 5
}
