{
 "cells": [
  {
   "cell_type": "code",
   "execution_count": 1,
   "metadata": {},
   "outputs": [
    {
     "name": "stderr",
     "output_type": "stream",
     "text": [
      "i:\\anaconda\\envs\\neural\\lib\\site-packages\\tqdm\\auto.py:22: TqdmWarning: IProgress not found. Please update jupyter and ipywidgets. See https://ipywidgets.readthedocs.io/en/stable/user_install.html\n",
      "  from .autonotebook import tqdm as notebook_tqdm\n"
     ]
    }
   ],
   "source": [
    "# Pandas 를 포함한 실습에 필요한 모듈 추가가\n",
    "import tensorflow as tf\n",
    "import tensorflow_datasets as tfds\n",
    "import numpy as np\n",
    "\n",
    "import pandas as pd"
   ]
  },
  {
   "cell_type": "code",
   "execution_count": 2,
   "metadata": {},
   "outputs": [],
   "source": [
    "# 데이터셋 파일 Pandas 데이터프레임으로 불러오기\n",
    "df = pd.read_csv('movie_data.csv', encoding='utf-8')"
   ]
  },
  {
   "cell_type": "code",
   "execution_count": 3,
   "metadata": {},
   "outputs": [
    {
     "data": {
      "text/html": [
       "<div>\n",
       "<style scoped>\n",
       "    .dataframe tbody tr th:only-of-type {\n",
       "        vertical-align: middle;\n",
       "    }\n",
       "\n",
       "    .dataframe tbody tr th {\n",
       "        vertical-align: top;\n",
       "    }\n",
       "\n",
       "    .dataframe thead th {\n",
       "        text-align: right;\n",
       "    }\n",
       "</style>\n",
       "<table border=\"1\" class=\"dataframe\">\n",
       "  <thead>\n",
       "    <tr style=\"text-align: right;\">\n",
       "      <th></th>\n",
       "      <th>review</th>\n",
       "      <th>sentiment</th>\n",
       "    </tr>\n",
       "  </thead>\n",
       "  <tbody>\n",
       "    <tr>\n",
       "      <th>0</th>\n",
       "      <td>In 1974, the teenager Martha Moxley (Maggie Gr...</td>\n",
       "      <td>1</td>\n",
       "    </tr>\n",
       "    <tr>\n",
       "      <th>1</th>\n",
       "      <td>OK... so... I really like Kris Kristofferson a...</td>\n",
       "      <td>0</td>\n",
       "    </tr>\n",
       "    <tr>\n",
       "      <th>2</th>\n",
       "      <td>***SPOILER*** Do not read this, if you think a...</td>\n",
       "      <td>0</td>\n",
       "    </tr>\n",
       "    <tr>\n",
       "      <th>3</th>\n",
       "      <td>hi for all the people who have seen this wonde...</td>\n",
       "      <td>1</td>\n",
       "    </tr>\n",
       "    <tr>\n",
       "      <th>4</th>\n",
       "      <td>I recently bought the DVD, forgetting just how...</td>\n",
       "      <td>0</td>\n",
       "    </tr>\n",
       "  </tbody>\n",
       "</table>\n",
       "</div>"
      ],
      "text/plain": [
       "                                              review  sentiment\n",
       "0  In 1974, the teenager Martha Moxley (Maggie Gr...          1\n",
       "1  OK... so... I really like Kris Kristofferson a...          0\n",
       "2  ***SPOILER*** Do not read this, if you think a...          0\n",
       "3  hi for all the people who have seen this wonde...          1\n",
       "4  I recently bought the DVD, forgetting just how...          0"
      ]
     },
     "execution_count": 3,
     "metadata": {},
     "output_type": "execute_result"
    }
   ],
   "source": [
    "# 상위 5개 데이터 읽어오기\n",
    "df.head(5)"
   ]
  },
  {
   "cell_type": "code",
   "execution_count": 4,
   "metadata": {},
   "outputs": [],
   "source": [
    "# 1단계 데이터셋 만들기\n",
    "target = df.pop('sentiment') # sentiment 컬럼의 데이터만 추출(df에서 해당 컬럼 사라짐)\n",
    "\n",
    "# 텐서플로 데이터셋 객체로 생성,\n",
    "# 하나의 데이터는 (리뷰 텍스트, sentiment 레이블 값)\n",
    "ds_raw = tf.data.Dataset.from_tensor_slices((df.values, target.values))"
   ]
  },
  {
   "cell_type": "code",
   "execution_count": 5,
   "metadata": {},
   "outputs": [
    {
     "name": "stdout",
     "output_type": "stream",
     "text": [
      "b'In 1974, the teenager Martha Moxley (Maggie Grace)' 1\n",
      "b'OK... so... I really like Kris Kristofferson and h' 0\n",
      "b'***SPOILER*** Do not read this, if you think about' 0\n",
      "b'hi for all the people who have seen this wonderful' 1\n",
      "b'I recently bought the DVD, forgetting just how muc' 0\n"
     ]
    }
   ],
   "source": [
    "# 확인\n",
    "for ex in ds_raw.take(5):\n",
    "    tf.print(ex[0].numpy()[0][ : 50], ex[1])"
   ]
  },
  {
   "cell_type": "code",
   "execution_count": 6,
   "metadata": {},
   "outputs": [],
   "source": [
    "tf.random.set_seed(1)\n",
    "\n",
    "ds_raw = ds_raw.shuffle(50000, reshuffle_each_iteration=False)\n",
    "\n",
    "ds_raw_test = ds_raw.take(25000)\n",
    "ds_raw_train_valid = ds_raw.skip(25000)\n",
    "\n",
    "ds_raw_train = ds_raw_train_valid.take(20000)\n",
    "ds_raw_valid = ds_raw_train_valid.skip(20000)"
   ]
  },
  {
   "cell_type": "code",
   "execution_count": 7,
   "metadata": {},
   "outputs": [
    {
     "name": "stdout",
     "output_type": "stream",
     "text": [
      "어휘 사전 크기: 58063\n"
     ]
    }
   ],
   "source": [
    "# 2단계 : 고유 토큰(단어) 찾기\n",
    "from collections import Counter\n",
    "\n",
    "tokenizer = tfds.deprecated.text.Tokenizer()\n",
    "token_counts = Counter()\n",
    "\n",
    "max_seq_length = 100 # 추가코드 1: Sequence 슬라이스용 변수\n",
    "\n",
    "for example in ds_raw_train:\n",
    "    tokens = tokenizer.tokenize(example[0].numpy()[0])\n",
    "    tokens = tokens[-max_seq_length : ] # 추가코드 2: 시퀸스의 마지막에서부터 max_seq_length 만큼 슬라이스\n",
    "    token_counts.update(tokens)\n",
    "\n",
    "print(\"어휘 사전 크기:\", len(token_counts))"
   ]
  },
  {
   "cell_type": "code",
   "execution_count": 8,
   "metadata": {},
   "outputs": [
    {
     "name": "stdout",
     "output_type": "stream",
     "text": [
      "[374, 209, 104, 26885]\n"
     ]
    }
   ],
   "source": [
    "# 3단계: 고유 토큰을 정수로 인코딩\n",
    "\n",
    "encoder = tfds.deprecated.text.TokenTextEncoder(token_counts)\n",
    "\n",
    "example_str = 'This is an Example!'\n",
    "print(encoder.encode(example_str))"
   ]
  },
  {
   "cell_type": "code",
   "execution_count": 9,
   "metadata": {},
   "outputs": [
    {
     "data": {
      "text/plain": [
       "58065"
      ]
     },
     "execution_count": 9,
     "metadata": {},
     "output_type": "execute_result"
    }
   ],
   "source": [
    "# 인코더에 토큰 사이즈 37p\n",
    "encoder.vocab_size"
   ]
  },
  {
   "cell_type": "code",
   "execution_count": 10,
   "metadata": {},
   "outputs": [],
   "source": [
    "# 3-A 단계: 변환을 위한 함수 정의\n",
    "def encode(text_tensor, label):\n",
    "    text = text_tensor.numpy()[0] # map() 메서드에서는 즉시 실행 불가\n",
    "    encoded_text = encoder.encode(text)\n",
    "\n",
    "    encoded_text = encoded_text[-max_seq_length : ] # 추가코드 3: 시퀸스의 마지막에서부터 max_seq_length 만큼 슬라이스\n",
    "\n",
    "    return encoded_text, label"
   ]
  },
  {
   "cell_type": "code",
   "execution_count": 11,
   "metadata": {},
   "outputs": [],
   "source": [
    "# 3-B 단계: 함수를 TF 연산으로 변환\n",
    "# tf.py_function으로 감싸 map() 메서드가 가능하도록 텐서플로 연산으로 변환\n",
    "def encode_map_fn(text, label):\n",
    "    return tf.py_function(encode, inp=[text, label], Tout=(tf.int64, tf.int64))"
   ]
  },
  {
   "cell_type": "code",
   "execution_count": 12,
   "metadata": {},
   "outputs": [],
   "source": [
    "ds_train = ds_raw_train.map(encode_map_fn)\n",
    "ds_valid = ds_raw_valid.map(encode_map_fn)\n",
    "ds_test = ds_raw_test.map(encode_map_fn)"
   ]
  },
  {
   "cell_type": "code",
   "execution_count": 13,
   "metadata": {},
   "outputs": [
    {
     "name": "stdout",
     "output_type": "stream",
     "text": [
      "시퀀스 길이 : (24,)\n",
      "시퀀스 길이 : (100,)\n",
      "시퀀스 길이 : (100,)\n",
      "시퀀스 길이 : (100,)\n",
      "시퀀스 길이 : (100,)\n"
     ]
    }
   ],
   "source": [
    "# 샘플의 크기 확인\n",
    "tf.random.set_seed(1)\n",
    "\n",
    "for example in ds_train.shuffle(1000).take(5):\n",
    "    print(\"시퀀스 길이 :\", example[0].shape)"
   ]
  },
  {
   "cell_type": "code",
   "execution_count": 14,
   "metadata": {},
   "outputs": [
    {
     "name": "stdout",
     "output_type": "stream",
     "text": [
      "개별 샘플크기: (100,)\n",
      "개별 샘플크기: (100,)\n",
      "개별 샘플크기: (100,)\n",
      "개별 샘플크기: (100,)\n",
      "개별 샘플크기: (100,)\n",
      "개별 샘플크기: (100,)\n",
      "개별 샘플크기: (100,)\n",
      "개별 샘플크기: (100,)\n"
     ]
    }
   ],
   "source": [
    "# padded_batch() 테스트를 위한 일부 데이터 추출\n",
    "ds_subset = ds_train.take(8)\n",
    "\n",
    "for example in ds_subset:\n",
    "    print(\"개별 샘플크기:\", example[0].shape)"
   ]
  },
  {
   "cell_type": "code",
   "execution_count": 15,
   "metadata": {},
   "outputs": [
    {
     "name": "stdout",
     "output_type": "stream",
     "text": [
      "배치 지원: (4, 100)\n",
      "배치 지원: (4, 100)\n"
     ]
    }
   ],
   "source": [
    "# 배치 데이터 만들기\n",
    "ds_batched = ds_subset.padded_batch(4, padded_shapes=([-1], []))\n",
    "\n",
    "for batch in ds_batched:\n",
    "    print(\"배치 지원:\", batch[0].shape)"
   ]
  },
  {
   "cell_type": "code",
   "execution_count": 16,
   "metadata": {},
   "outputs": [],
   "source": [
    "train_data = ds_train.padded_batch(32, padded_shapes=([-1], []))\n",
    "valid_data = ds_valid.padded_batch(32, padded_shapes=([-1], []))\n",
    "test_data = ds_test.padded_batch(32, padded_shapes=([-1], []))"
   ]
  },
  {
   "cell_type": "code",
   "execution_count": 17,
   "metadata": {},
   "outputs": [],
   "source": [
    "embedding_dim = 20 # 임베딩 차원수를 저장하기 위한 변수\n",
    "vocab_size = len(token_counts) + 2 # 임베딩 레이어 입력 차원 수, 고유 단어 수+2\n",
    "\n",
    "tf.random.set_seed(1)\n",
    "\n",
    "model = tf.keras.Sequential([\n",
    "    tf.keras.layers.Embedding(      # 임베딩 레이어\n",
    "        input_dim = vocab_size,\n",
    "        output_dim = embedding_dim,\n",
    "        name = 'embbed-layer'),\n",
    "\n",
    "    tf.keras.layers.SimpleRNN(\n",
    "        units = 64,                 # RNN 레이어\n",
    "        return_sequences = True,\n",
    "        name = 'simple_rnn_1'),\n",
    "\n",
    "    tf.keras.layers.Dense(64, activation='relu'),   # 완전연결층 FC64\n",
    "    tf.keras.layers.Dense(1, activation='sigmoid'), # 완전연결층 FC 1-출력층\n",
    "])"
   ]
  },
  {
   "cell_type": "code",
   "execution_count": 18,
   "metadata": {},
   "outputs": [
    {
     "name": "stdout",
     "output_type": "stream",
     "text": [
      "Model: \"sequential\"\n",
      "_________________________________________________________________\n",
      "Layer (type)                 Output Shape              Param #   \n",
      "=================================================================\n",
      "embbed-layer (Embedding)     (None, None, 20)          1161300   \n",
      "_________________________________________________________________\n",
      "simple_rnn_1 (SimpleRNN)     (None, None, 64)          5440      \n",
      "_________________________________________________________________\n",
      "dense (Dense)                (None, None, 64)          4160      \n",
      "_________________________________________________________________\n",
      "dense_1 (Dense)              (None, None, 1)           65        \n",
      "=================================================================\n",
      "Total params: 1,170,965\n",
      "Trainable params: 1,170,965\n",
      "Non-trainable params: 0\n",
      "_________________________________________________________________\n"
     ]
    }
   ],
   "source": [
    "model.summary()"
   ]
  },
  {
   "cell_type": "code",
   "execution_count": 19,
   "metadata": {},
   "outputs": [],
   "source": [
    "model.compile(optimizer = tf.keras.optimizers.Adam(1e-3),\n",
    "                loss = tf.keras.losses.BinaryCrossentropy(from_logits=False),\n",
    "                metrics = ['accuracy'])"
   ]
  },
  {
   "cell_type": "code",
   "execution_count": 21,
   "metadata": {},
   "outputs": [
    {
     "name": "stdout",
     "output_type": "stream",
     "text": [
      "Epoch 1/10\n",
      "625/625 [==============================] - 26s 39ms/step - loss: 0.6398 - accuracy: 0.6042 - val_loss: 0.5243 - val_accuracy: 0.7525\n",
      "Epoch 2/10\n",
      "625/625 [==============================] - 23s 36ms/step - loss: 0.4187 - accuracy: 0.8096 - val_loss: 0.5187 - val_accuracy: 0.7544\n",
      "Epoch 3/10\n",
      "625/625 [==============================] - 23s 36ms/step - loss: 0.2998 - accuracy: 0.8757 - val_loss: 0.7424 - val_accuracy: 0.7309\n",
      "Epoch 4/10\n",
      "625/625 [==============================] - 23s 37ms/step - loss: 0.2798 - accuracy: 0.8855 - val_loss: 0.7173 - val_accuracy: 0.7259\n",
      "Epoch 5/10\n",
      "625/625 [==============================] - 21s 33ms/step - loss: 0.2386 - accuracy: 0.9036 - val_loss: 0.7765 - val_accuracy: 0.7212\n",
      "Epoch 6/10\n",
      "625/625 [==============================] - 20s 32ms/step - loss: 0.2021 - accuracy: 0.9232 - val_loss: 0.8251 - val_accuracy: 0.7084\n",
      "Epoch 7/10\n",
      "625/625 [==============================] - 20s 31ms/step - loss: 0.1674 - accuracy: 0.9360 - val_loss: 0.9069 - val_accuracy: 0.6954\n",
      "Epoch 8/10\n",
      "625/625 [==============================] - 29s 47ms/step - loss: 0.1781 - accuracy: 0.9299 - val_loss: 0.8035 - val_accuracy: 0.7228\n",
      "Epoch 9/10\n",
      "625/625 [==============================] - 20s 32ms/step - loss: 0.1345 - accuracy: 0.9476 - val_loss: 0.9379 - val_accuracy: 0.7131\n",
      "Epoch 10/10\n",
      "625/625 [==============================] - 20s 32ms/step - loss: 0.1189 - accuracy: 0.9528 - val_loss: 0.8957 - val_accuracy: 0.7140\n"
     ]
    }
   ],
   "source": [
    "history = model.fit(train_data, validation_data=valid_data, epochs=10)"
   ]
  },
  {
   "cell_type": "code",
   "execution_count": 22,
   "metadata": {},
   "outputs": [
    {
     "name": "stdout",
     "output_type": "stream",
     "text": [
      "782/782 [==============================] - 13s 16ms/step - loss: 0.8912 - accuracy: 0.7150\n"
     ]
    }
   ],
   "source": [
    "test_results = model.evaluate(test_data)"
   ]
  },
  {
   "cell_type": "code",
   "execution_count": 24,
   "metadata": {},
   "outputs": [
    {
     "name": "stdout",
     "output_type": "stream",
     "text": [
      "테스트 정확도 : 71.50%\n"
     ]
    }
   ],
   "source": [
    "print('테스트 정확도 : {:.2f}%'.format(test_results[1]*100))"
   ]
  },
  {
   "cell_type": "code",
   "execution_count": 26,
   "metadata": {},
   "outputs": [],
   "source": [
    "bidirect_rnn_model = tf.keras.Sequential([\n",
    "    tf.keras.layers.Embedding(      # 임베딩 레이어\n",
    "        input_dim = vocab_size,\n",
    "        output_dim = embedding_dim,\n",
    "        name = 'embbed-layer'),\n",
    "\n",
    "    # tf.keras.layers.SimpleRNN(    # RNN 레이어\n",
    "    #     units = 64,                 \n",
    "    #     return_sequences = True,\n",
    "    #     name = 'simple_rnn_1'),\n",
    "\n",
    "    tf.keras.layers.Bidirectional(  # RNN 레이어를 양방향 레이어로\n",
    "        tf.keras.layers.SimpleRNN(\n",
    "            units = 64,\n",
    "            return_sequences = True,\n",
    "            name='simple_rnn_1'),\n",
    "        name = 'bidirect-simple-rnn'),\n",
    "\n",
    "    tf.keras.layers.Dense(64, activation = 'relu'), # 완전연결층 FC64\n",
    "\n",
    "    tf.keras.layers.Dense(1, activation = 'sigmoid') # 완전연결층 FC 1-출력층\n",
    "])"
   ]
  },
  {
   "cell_type": "code",
   "execution_count": 27,
   "metadata": {},
   "outputs": [
    {
     "name": "stdout",
     "output_type": "stream",
     "text": [
      "Model: \"sequential_1\"\n",
      "_________________________________________________________________\n",
      "Layer (type)                 Output Shape              Param #   \n",
      "=================================================================\n",
      "embbed-layer (Embedding)     (None, None, 20)          1161300   \n",
      "_________________________________________________________________\n",
      "bidirect-simple-rnn (Bidirec (None, None, 128)         10880     \n",
      "_________________________________________________________________\n",
      "dense_2 (Dense)              (None, None, 64)          8256      \n",
      "_________________________________________________________________\n",
      "dense_3 (Dense)              (None, None, 1)           65        \n",
      "=================================================================\n",
      "Total params: 1,180,501\n",
      "Trainable params: 1,180,501\n",
      "Non-trainable params: 0\n",
      "_________________________________________________________________\n"
     ]
    }
   ],
   "source": [
    "bidirect_rnn_model.summary()"
   ]
  },
  {
   "cell_type": "code",
   "execution_count": 29,
   "metadata": {},
   "outputs": [],
   "source": [
    "bidirect_rnn_model.compile(optimizer=tf.keras.optimizers.Adam(1e-3),\n",
    "loss = tf.keras.losses.BinaryCrossentropy(from_logits=False),\n",
    "metrics=['accuracy'])"
   ]
  },
  {
   "cell_type": "code",
   "execution_count": 30,
   "metadata": {},
   "outputs": [
    {
     "name": "stdout",
     "output_type": "stream",
     "text": [
      "Epoch 1/10\n",
      "625/625 [==============================] - 26s 40ms/step - loss: 0.6119 - accuracy: 0.6300 - val_loss: 0.4220 - val_accuracy: 0.8096\n",
      "Epoch 2/10\n",
      "625/625 [==============================] - 25s 40ms/step - loss: 0.2882 - accuracy: 0.8815 - val_loss: 0.4412 - val_accuracy: 0.8148\n",
      "Epoch 3/10\n",
      "625/625 [==============================] - 25s 39ms/step - loss: 0.1565 - accuracy: 0.9430 - val_loss: 0.5795 - val_accuracy: 0.8025\n",
      "Epoch 4/10\n",
      "625/625 [==============================] - 26s 41ms/step - loss: 0.1352 - accuracy: 0.9488 - val_loss: 0.6004 - val_accuracy: 0.8153\n",
      "Epoch 5/10\n",
      "625/625 [==============================] - 28s 45ms/step - loss: 0.1019 - accuracy: 0.9639 - val_loss: 0.6446 - val_accuracy: 0.8091\n",
      "Epoch 6/10\n",
      "625/625 [==============================] - 28s 44ms/step - loss: 0.0861 - accuracy: 0.9691 - val_loss: 0.6999 - val_accuracy: 0.8174\n",
      "Epoch 7/10\n",
      "625/625 [==============================] - 26s 41ms/step - loss: 0.0623 - accuracy: 0.9779 - val_loss: 0.7948 - val_accuracy: 0.8060\n",
      "Epoch 8/10\n",
      "625/625 [==============================] - 25s 40ms/step - loss: 0.0520 - accuracy: 0.9807 - val_loss: 1.0438 - val_accuracy: 0.7846\n",
      "Epoch 9/10\n",
      "625/625 [==============================] - 24s 38ms/step - loss: 0.0560 - accuracy: 0.9810 - val_loss: 0.8157 - val_accuracy: 0.7890\n",
      "Epoch 10/10\n",
      "625/625 [==============================] - 25s 40ms/step - loss: 0.0373 - accuracy: 0.9868 - val_loss: 0.8066 - val_accuracy: 0.7751\n"
     ]
    }
   ],
   "source": [
    "history = bidirect_rnn_model.fit(train_data, validation_data = valid_data, epochs=10)"
   ]
  },
  {
   "cell_type": "code",
   "execution_count": 31,
   "metadata": {},
   "outputs": [
    {
     "name": "stdout",
     "output_type": "stream",
     "text": [
      "782/782 [==============================] - 16s 20ms/step - loss: 0.7925 - accuracy: 0.7762\n",
      "테스트 정확도: 77.62%\n"
     ]
    }
   ],
   "source": [
    "test_results = bidirect_rnn_model.evaluate(test_data)\n",
    "print('테스트 정확도: {:.2f}%'.format(test_results[1]*100))"
   ]
  },
  {
   "cell_type": "code",
   "execution_count": 32,
   "metadata": {},
   "outputs": [],
   "source": [
    "lstm_rnn_model = tf.keras.Sequential([\n",
    "    tf.keras.layers.Embedding(          # 임베딩 레이어\n",
    "        input_dim = vocab_size,\n",
    "        output_dim = embedding_dim,\n",
    "        name = 'embbed-layer'),\n",
    "\n",
    "    tf.keras.layers.LSTM(               # LSTM 레이어\n",
    "        units = 64,\n",
    "        return_sequences = True,\n",
    "        name = 'lstm-layer_1'),\n",
    "\n",
    "    tf.keras.layers.Dense(64, activation = 'relu'), # 완전연결층 FC64\n",
    "\n",
    "    tf.keras.layers.Dense(1, activation = 'sigmoid') # 완전연결층 FC 1-출력층\n",
    "])"
   ]
  },
  {
   "cell_type": "code",
   "execution_count": 33,
   "metadata": {},
   "outputs": [
    {
     "name": "stdout",
     "output_type": "stream",
     "text": [
      "Model: \"sequential_2\"\n",
      "_________________________________________________________________\n",
      "Layer (type)                 Output Shape              Param #   \n",
      "=================================================================\n",
      "embbed-layer (Embedding)     (None, None, 20)          1161300   \n",
      "_________________________________________________________________\n",
      "lstm-layer_1 (LSTM)          (None, None, 64)          21760     \n",
      "_________________________________________________________________\n",
      "dense_4 (Dense)              (None, None, 64)          4160      \n",
      "_________________________________________________________________\n",
      "dense_5 (Dense)              (None, None, 1)           65        \n",
      "=================================================================\n",
      "Total params: 1,187,285\n",
      "Trainable params: 1,187,285\n",
      "Non-trainable params: 0\n",
      "_________________________________________________________________\n"
     ]
    }
   ],
   "source": [
    "lstm_rnn_model.summary()"
   ]
  },
  {
   "cell_type": "code",
   "execution_count": 34,
   "metadata": {},
   "outputs": [],
   "source": [
    "lstm_rnn_model.compile(optimizer = tf.keras.optimizers.Adam(1e-3),\n",
    "                        loss = tf.keras.losses.BinaryCrossentropy(from_logits = False),\n",
    "                        metrics = ['accuracy'])"
   ]
  },
  {
   "cell_type": "code",
   "execution_count": 35,
   "metadata": {},
   "outputs": [
    {
     "name": "stdout",
     "output_type": "stream",
     "text": [
      "Epoch 1/10\n",
      "625/625 [==============================] - 35s 53ms/step - loss: 0.5938 - accuracy: 0.6625 - val_loss: 0.4812 - val_accuracy: 0.7601\n",
      "Epoch 2/10\n",
      "625/625 [==============================] - 32s 51ms/step - loss: 0.3746 - accuracy: 0.8316 - val_loss: 0.5168 - val_accuracy: 0.7474\n",
      "Epoch 3/10\n",
      "625/625 [==============================] - 33s 52ms/step - loss: 0.2685 - accuracy: 0.8874 - val_loss: 0.5994 - val_accuracy: 0.7396\n",
      "Epoch 4/10\n",
      "625/625 [==============================] - 32s 51ms/step - loss: 0.2066 - accuracy: 0.9144 - val_loss: 0.8253 - val_accuracy: 0.7280\n",
      "Epoch 5/10\n",
      "625/625 [==============================] - 34s 54ms/step - loss: 0.1720 - accuracy: 0.9284 - val_loss: 0.8208 - val_accuracy: 0.7240\n",
      "Epoch 6/10\n",
      "625/625 [==============================] - 33s 53ms/step - loss: 0.1532 - accuracy: 0.9350 - val_loss: 1.1049 - val_accuracy: 0.7018\n",
      "Epoch 7/10\n",
      "625/625 [==============================] - 32s 51ms/step - loss: 0.1335 - accuracy: 0.9427 - val_loss: 1.3574 - val_accuracy: 0.6915\n",
      "Epoch 8/10\n",
      "625/625 [==============================] - 36s 57ms/step - loss: 0.1217 - accuracy: 0.9477 - val_loss: 1.2648 - val_accuracy: 0.6992\n",
      "Epoch 9/10\n",
      "625/625 [==============================] - 32s 51ms/step - loss: 0.1086 - accuracy: 0.9521 - val_loss: 1.3788 - val_accuracy: 0.6996\n",
      "Epoch 10/10\n",
      "625/625 [==============================] - 32s 51ms/step - loss: 0.1046 - accuracy: 0.9540 - val_loss: 1.4601 - val_accuracy: 0.6905\n"
     ]
    }
   ],
   "source": [
    "history = lstm_rnn_model.fit(train_data, validation_data = valid_data, epochs = 10)"
   ]
  },
  {
   "cell_type": "code",
   "execution_count": 36,
   "metadata": {},
   "outputs": [
    {
     "name": "stdout",
     "output_type": "stream",
     "text": [
      "782/782 [==============================] - 17s 22ms/step - loss: 1.4301 - accuracy: 0.6952\n",
      "테스트 정확도:69.52%\n"
     ]
    }
   ],
   "source": [
    "test_results = lstm_rnn_model.evaluate(test_data)\n",
    "print('테스트 정확도:{:.2f}%'.format(test_results[1]*100))"
   ]
  },
  {
   "cell_type": "code",
   "execution_count": 37,
   "metadata": {},
   "outputs": [],
   "source": [
    "bi_lstm_rnn_model = tf.keras.Sequential([\n",
    "    tf.keras.layers.Embedding(      #임베딩 레이어\n",
    "        input_dim = vocab_size,\n",
    "        output_dim = embedding_dim,\n",
    "        name='embbed-layer'),\n",
    "\n",
    "    tf.keras.layers.Bidirectional(  # Bidirectional LSTM layer\n",
    "        tf.keras.layers.LSTM(\n",
    "            units = 64,\n",
    "            return_sequences = True,\n",
    "            name='lstm-layer_1')),\n",
    "\n",
    "    tf.keras.layers.Dense(64, activation = 'relu'), # 완전연결층 FC 64\n",
    "\n",
    "    tf.keras.layers.Dense(1, activation = 'sigmoid') # 완전연결층 FC 1 - 출력층\n",
    "])"
   ]
  },
  {
   "cell_type": "code",
   "execution_count": 38,
   "metadata": {},
   "outputs": [
    {
     "name": "stdout",
     "output_type": "stream",
     "text": [
      "Model: \"sequential_3\"\n",
      "_________________________________________________________________\n",
      "Layer (type)                 Output Shape              Param #   \n",
      "=================================================================\n",
      "embbed-layer (Embedding)     (None, None, 20)          1161300   \n",
      "_________________________________________________________________\n",
      "bidirectional (Bidirectional (None, None, 128)         43520     \n",
      "_________________________________________________________________\n",
      "dense_6 (Dense)              (None, None, 64)          8256      \n",
      "_________________________________________________________________\n",
      "dense_7 (Dense)              (None, None, 1)           65        \n",
      "=================================================================\n",
      "Total params: 1,213,141\n",
      "Trainable params: 1,213,141\n",
      "Non-trainable params: 0\n",
      "_________________________________________________________________\n"
     ]
    }
   ],
   "source": [
    "bi_lstm_rnn_model.summary()"
   ]
  },
  {
   "cell_type": "code",
   "execution_count": 39,
   "metadata": {},
   "outputs": [],
   "source": [
    "bi_lstm_rnn_model.compile(optimizer = tf.keras.optimizers.Adam(1e-3),\n",
    "                            loss = tf.keras.losses.BinaryCrossentropy(from_logits=False),\n",
    "                            metrics = ['accuracy'])"
   ]
  },
  {
   "cell_type": "code",
   "execution_count": 40,
   "metadata": {},
   "outputs": [
    {
     "name": "stdout",
     "output_type": "stream",
     "text": [
      "Epoch 1/10\n",
      "625/625 [==============================] - 37s 56ms/step - loss: 0.5350 - accuracy: 0.7039 - val_loss: 0.3456 - val_accuracy: 0.8467\n",
      "Epoch 2/10\n",
      "625/625 [==============================] - 33s 53ms/step - loss: 0.2254 - accuracy: 0.9095 - val_loss: 0.4181 - val_accuracy: 0.8448\n",
      "Epoch 3/10\n",
      "625/625 [==============================] - 34s 54ms/step - loss: 0.1113 - accuracy: 0.9634 - val_loss: 0.5074 - val_accuracy: 0.8349\n",
      "Epoch 4/10\n",
      "625/625 [==============================] - 34s 54ms/step - loss: 0.0631 - accuracy: 0.9785 - val_loss: 0.7585 - val_accuracy: 0.8082\n",
      "Epoch 5/10\n",
      "625/625 [==============================] - 32s 51ms/step - loss: 0.0449 - accuracy: 0.9846 - val_loss: 0.5887 - val_accuracy: 0.8363\n",
      "Epoch 6/10\n",
      "625/625 [==============================] - 33s 53ms/step - loss: 0.0386 - accuracy: 0.9866 - val_loss: 0.9465 - val_accuracy: 0.8158\n",
      "Epoch 7/10\n",
      "625/625 [==============================] - 39s 62ms/step - loss: 0.0352 - accuracy: 0.9880 - val_loss: 0.7725 - val_accuracy: 0.8345\n",
      "Epoch 8/10\n",
      "625/625 [==============================] - 37s 59ms/step - loss: 0.0211 - accuracy: 0.9929 - val_loss: 0.8878 - val_accuracy: 0.8244\n",
      "Epoch 9/10\n",
      "625/625 [==============================] - 37s 59ms/step - loss: 0.0135 - accuracy: 0.9955 - val_loss: 0.8331 - val_accuracy: 0.8256\n",
      "Epoch 10/10\n",
      "625/625 [==============================] - 44s 70ms/step - loss: 0.0067 - accuracy: 0.9981 - val_loss: 0.9693 - val_accuracy: 0.8230\n"
     ]
    }
   ],
   "source": [
    "history = bi_lstm_rnn_model.fit(train_data, validation_data=valid_data, epochs=10)"
   ]
  },
  {
   "cell_type": "code",
   "execution_count": 42,
   "metadata": {},
   "outputs": [
    {
     "name": "stdout",
     "output_type": "stream",
     "text": [
      "782/782 [==============================] - 18s 23ms/step - loss: 1.0039 - accuracy: 0.8205\n",
      "테스트 정확도:82.05%\n"
     ]
    }
   ],
   "source": [
    "test_results = bi_lstm_rnn_model.evaluate(test_data)\n",
    "print('테스트 정확도:{:.2f}%'.format(test_results[1]*100))"
   ]
  }
 ],
 "metadata": {
  "kernelspec": {
   "display_name": "neural",
   "language": "python",
   "name": "python3"
  },
  "language_info": {
   "codemirror_mode": {
    "name": "ipython",
    "version": 3
   },
   "file_extension": ".py",
   "mimetype": "text/x-python",
   "name": "python",
   "nbconvert_exporter": "python",
   "pygments_lexer": "ipython3",
   "version": "3.7.15"
  },
  "orig_nbformat": 4,
  "vscode": {
   "interpreter": {
    "hash": "160d74d5e7a983232e4e8c8d020c6316a1b48b46ea07c1d090921fe6c0680d76"
   }
  }
 },
 "nbformat": 4,
 "nbformat_minor": 2
}
