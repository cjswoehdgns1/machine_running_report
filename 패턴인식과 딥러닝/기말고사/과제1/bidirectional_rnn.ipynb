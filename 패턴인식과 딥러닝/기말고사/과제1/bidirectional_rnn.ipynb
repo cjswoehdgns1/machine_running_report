{
 "cells": [
  {
   "cell_type": "code",
   "execution_count": 1,
   "metadata": {},
   "outputs": [
    {
     "name": "stderr",
     "output_type": "stream",
     "text": [
      "i:\\anaconda\\envs\\neural\\lib\\site-packages\\tqdm\\auto.py:22: TqdmWarning: IProgress not found. Please update jupyter and ipywidgets. See https://ipywidgets.readthedocs.io/en/stable/user_install.html\n",
      "  from .autonotebook import tqdm as notebook_tqdm\n"
     ]
    }
   ],
   "source": [
    "# Pandas 를 포함한 실습에 필요한 모듈 추가가\n",
    "import tensorflow as tf\n",
    "import tensorflow_datasets as tfds\n",
    "import numpy as np\n",
    "\n",
    "import pandas as pd"
   ]
  },
  {
   "cell_type": "code",
   "execution_count": 2,
   "metadata": {},
   "outputs": [],
   "source": [
    "# 데이터셋 파일 Pandas 데이터프레임으로 불러오기\n",
    "df = pd.read_csv('movie_data.csv', encoding='utf-8')"
   ]
  },
  {
   "cell_type": "code",
   "execution_count": 3,
   "metadata": {},
   "outputs": [
    {
     "data": {
      "text/html": [
       "<div>\n",
       "<style scoped>\n",
       "    .dataframe tbody tr th:only-of-type {\n",
       "        vertical-align: middle;\n",
       "    }\n",
       "\n",
       "    .dataframe tbody tr th {\n",
       "        vertical-align: top;\n",
       "    }\n",
       "\n",
       "    .dataframe thead th {\n",
       "        text-align: right;\n",
       "    }\n",
       "</style>\n",
       "<table border=\"1\" class=\"dataframe\">\n",
       "  <thead>\n",
       "    <tr style=\"text-align: right;\">\n",
       "      <th></th>\n",
       "      <th>review</th>\n",
       "      <th>sentiment</th>\n",
       "    </tr>\n",
       "  </thead>\n",
       "  <tbody>\n",
       "    <tr>\n",
       "      <th>0</th>\n",
       "      <td>In 1974, the teenager Martha Moxley (Maggie Gr...</td>\n",
       "      <td>1</td>\n",
       "    </tr>\n",
       "    <tr>\n",
       "      <th>1</th>\n",
       "      <td>OK... so... I really like Kris Kristofferson a...</td>\n",
       "      <td>0</td>\n",
       "    </tr>\n",
       "    <tr>\n",
       "      <th>2</th>\n",
       "      <td>***SPOILER*** Do not read this, if you think a...</td>\n",
       "      <td>0</td>\n",
       "    </tr>\n",
       "    <tr>\n",
       "      <th>3</th>\n",
       "      <td>hi for all the people who have seen this wonde...</td>\n",
       "      <td>1</td>\n",
       "    </tr>\n",
       "    <tr>\n",
       "      <th>4</th>\n",
       "      <td>I recently bought the DVD, forgetting just how...</td>\n",
       "      <td>0</td>\n",
       "    </tr>\n",
       "  </tbody>\n",
       "</table>\n",
       "</div>"
      ],
      "text/plain": [
       "                                              review  sentiment\n",
       "0  In 1974, the teenager Martha Moxley (Maggie Gr...          1\n",
       "1  OK... so... I really like Kris Kristofferson a...          0\n",
       "2  ***SPOILER*** Do not read this, if you think a...          0\n",
       "3  hi for all the people who have seen this wonde...          1\n",
       "4  I recently bought the DVD, forgetting just how...          0"
      ]
     },
     "execution_count": 3,
     "metadata": {},
     "output_type": "execute_result"
    }
   ],
   "source": [
    "# 상위 5개 데이터 읽어오기\n",
    "df.head(5)"
   ]
  },
  {
   "cell_type": "code",
   "execution_count": 4,
   "metadata": {},
   "outputs": [],
   "source": [
    "# 1단계 데이터셋 만들기\n",
    "target = df.pop('sentiment') # sentiment 컬럼의 데이터만 추출(df에서 해당 컬럼 사라짐)\n",
    "\n",
    "# 텐서플로 데이터셋 객체로 생성,\n",
    "# 하나의 데이터는 (리뷰 텍스트, sentiment 레이블 값)\n",
    "ds_raw = tf.data.Dataset.from_tensor_slices((df.values, target.values))"
   ]
  },
  {
   "cell_type": "code",
   "execution_count": 5,
   "metadata": {},
   "outputs": [
    {
     "name": "stdout",
     "output_type": "stream",
     "text": [
      "b'In 1974, the teenager Martha Moxley (Maggie Grace)' 1\n",
      "b'OK... so... I really like Kris Kristofferson and h' 0\n",
      "b'***SPOILER*** Do not read this, if you think about' 0\n",
      "b'hi for all the people who have seen this wonderful' 1\n",
      "b'I recently bought the DVD, forgetting just how muc' 0\n"
     ]
    }
   ],
   "source": [
    "# 확인\n",
    "for ex in ds_raw.take(5):\n",
    "    tf.print(ex[0].numpy()[0][ : 50], ex[1])"
   ]
  },
  {
   "cell_type": "code",
   "execution_count": 6,
   "metadata": {},
   "outputs": [],
   "source": [
    "tf.random.set_seed(1)\n",
    "\n",
    "ds_raw = ds_raw.shuffle(50000, reshuffle_each_iteration=False)\n",
    "\n",
    "ds_raw_test = ds_raw.take(25000)\n",
    "ds_raw_train_valid = ds_raw.skip(25000)\n",
    "\n",
    "ds_raw_train = ds_raw_train_valid.take(20000)\n",
    "ds_raw_valid = ds_raw_train_valid.skip(20000)"
   ]
  },
  {
   "cell_type": "code",
   "execution_count": 7,
   "metadata": {},
   "outputs": [
    {
     "data": {
      "text/plain": [
       "<TakeDataset shapes: ((1,), ()), types: (tf.string, tf.int64)>"
      ]
     },
     "execution_count": 7,
     "metadata": {},
     "output_type": "execute_result"
    }
   ],
   "source": [
    "# ds_raw\n",
    "ds_raw_test"
   ]
  },
  {
   "cell_type": "code",
   "execution_count": 8,
   "metadata": {},
   "outputs": [
    {
     "name": "stdout",
     "output_type": "stream",
     "text": [
      "어휘 사전 크기: 87007\n"
     ]
    }
   ],
   "source": [
    "# 2단계 : 고유 토큰(단어) 찾기\n",
    "from collections import Counter\n",
    "\n",
    "tokenizer = tfds.deprecated.text.Tokenizer()\n",
    "token_counts = Counter()\n",
    "\n",
    "for example in ds_raw_train:\n",
    "    tokens = tokenizer.tokenize(example[0].numpy()[0])\n",
    "    token_counts.update(tokens)\n",
    "\n",
    "print(\"어휘 사전 크기:\", len(token_counts))"
   ]
  },
  {
   "cell_type": "code",
   "execution_count": 9,
   "metadata": {},
   "outputs": [
    {
     "name": "stdout",
     "output_type": "stream",
     "text": [
      "[232, 9, 270, 7969]\n"
     ]
    }
   ],
   "source": [
    "# 3단계: 고유 토큰을 정수로 인코딩\n",
    "\n",
    "encoder = tfds.deprecated.text.TokenTextEncoder(token_counts)\n",
    "\n",
    "example_str = 'This is an Example!'\n",
    "print(encoder.encode(example_str))"
   ]
  },
  {
   "cell_type": "code",
   "execution_count": 10,
   "metadata": {},
   "outputs": [
    {
     "data": {
      "text/plain": [
       "87009"
      ]
     },
     "execution_count": 10,
     "metadata": {},
     "output_type": "execute_result"
    }
   ],
   "source": [
    "# 인코더에 토큰 사이즈 37p\n",
    "encoder.vocab_size"
   ]
  },
  {
   "cell_type": "code",
   "execution_count": 11,
   "metadata": {},
   "outputs": [],
   "source": [
    "# 3-A 단계: 변환을 위한 함수 정의\n",
    "def encode(text_tensor, label):\n",
    "    text = text_tensor.numpy()[0]\n",
    "    encoded_text = encoder.encode(text)\n",
    "\n",
    "    return encoded_text, label"
   ]
  },
  {
   "cell_type": "code",
   "execution_count": 12,
   "metadata": {},
   "outputs": [],
   "source": [
    "# 3-B 단계: 함수를 TF 연산으로 변환\n",
    "# tf.py_function으로 감싸 map() 메서드가 가능하도록 텐서플로 연산으로 변환\n",
    "def encode_map_fn(text, label):\n",
    "    return tf.py_function(encode, inp=[text, label], Tout=(tf.int64, tf.int64))"
   ]
  },
  {
   "cell_type": "code",
   "execution_count": 13,
   "metadata": {},
   "outputs": [],
   "source": [
    "ds_train = ds_raw_train.map(encode_map_fn)\n",
    "ds_valid = ds_raw_valid.map(encode_map_fn)\n",
    "ds_test = ds_raw_test.map(encode_map_fn)"
   ]
  },
  {
   "cell_type": "code",
   "execution_count": 14,
   "metadata": {},
   "outputs": [
    {
     "name": "stdout",
     "output_type": "stream",
     "text": [
      "시퀀스 길이 : (24,)\n",
      "시퀀스 길이 : (179,)\n",
      "시퀀스 길이 : (262,)\n",
      "시퀀스 길이 : (535,)\n",
      "시퀀스 길이 : (130,)\n"
     ]
    }
   ],
   "source": [
    "# 샘플의 크기 확인\n",
    "tf.random.set_seed(1)\n",
    "\n",
    "for example in ds_train.shuffle(1000).take(5):\n",
    "    print(\"시퀀스 길이 :\", example[0].shape)"
   ]
  },
  {
   "cell_type": "code",
   "execution_count": 15,
   "metadata": {},
   "outputs": [
    {
     "name": "stdout",
     "output_type": "stream",
     "text": [
      "개별 샘플크기: (119,)\n",
      "개별 샘플크기: (688,)\n",
      "개별 샘플크기: (308,)\n",
      "개별 샘플크기: (204,)\n",
      "개별 샘플크기: (326,)\n",
      "개별 샘플크기: (240,)\n",
      "개별 샘플크기: (127,)\n",
      "개별 샘플크기: (453,)\n"
     ]
    }
   ],
   "source": [
    "# padded_batch() 테스트를 위한 일부 데이터 추출\n",
    "ds_subset = ds_train.take(8)\n",
    "\n",
    "for example in ds_subset:\n",
    "    print(\"개별 샘플크기:\", example[0].shape)"
   ]
  },
  {
   "cell_type": "code",
   "execution_count": 16,
   "metadata": {},
   "outputs": [
    {
     "name": "stdout",
     "output_type": "stream",
     "text": [
      "배치 지원: (4, 688)\n",
      "배치 지원: (4, 453)\n"
     ]
    }
   ],
   "source": [
    "# 배치 데이터 만들기\n",
    "ds_batched = ds_subset.padded_batch(4, padded_shapes=([-1], []))\n",
    "\n",
    "for batch in ds_batched:\n",
    "    print(\"배치 지원:\", batch[0].shape)"
   ]
  },
  {
   "cell_type": "code",
   "execution_count": 17,
   "metadata": {},
   "outputs": [],
   "source": [
    "train_data = ds_train.padded_batch(32, padded_shapes=([-1], []))\n",
    "valid_data = ds_valid.padded_batch(32, padded_shapes=([-1], []))\n",
    "test_data = ds_test.padded_batch(32, padded_shapes=([-1], []))"
   ]
  },
  {
   "cell_type": "code",
   "execution_count": 18,
   "metadata": {},
   "outputs": [],
   "source": [
    "embedding_dim = 20 # 임베딩 차원수를 저장하기 위한 변수\n",
    "vocab_size = len(token_counts) + 2 # 임베딩 레이어 입력 차원 수, 고유 단어 수+2\n",
    "\n",
    "tf.random.set_seed(1)\n",
    "\n",
    "model = tf.keras.Sequential([\n",
    "    tf.keras.layers.Embedding(      # 임베딩 레이어\n",
    "        input_dim = vocab_size,\n",
    "        output_dim = embedding_dim,\n",
    "        name = 'embbed-layer'),\n",
    "\n",
    "    tf.keras.layers.SimpleRNN(\n",
    "        units = 64,                 # RNN 레이어\n",
    "        return_sequences = True,\n",
    "        name = 'simple_rnn_1'),\n",
    "\n",
    "    tf.keras.layers.Dense(64, activation='relu'),   # 완전연결층 FC64\n",
    "    tf.keras.layers.Dense(1, activation='sigmoid'), # 완전연결층 FC 1-출력층\n",
    "])"
   ]
  },
  {
   "cell_type": "code",
   "execution_count": 19,
   "metadata": {},
   "outputs": [
    {
     "name": "stdout",
     "output_type": "stream",
     "text": [
      "Model: \"sequential\"\n",
      "_________________________________________________________________\n",
      "Layer (type)                 Output Shape              Param #   \n",
      "=================================================================\n",
      "embbed-layer (Embedding)     (None, None, 20)          1740180   \n",
      "_________________________________________________________________\n",
      "simple_rnn_1 (SimpleRNN)     (None, None, 64)          5440      \n",
      "_________________________________________________________________\n",
      "dense (Dense)                (None, None, 64)          4160      \n",
      "_________________________________________________________________\n",
      "dense_1 (Dense)              (None, None, 1)           65        \n",
      "=================================================================\n",
      "Total params: 1,749,845\n",
      "Trainable params: 1,749,845\n",
      "Non-trainable params: 0\n",
      "_________________________________________________________________\n"
     ]
    }
   ],
   "source": [
    "model.summary()"
   ]
  },
  {
   "cell_type": "code",
   "execution_count": 20,
   "metadata": {},
   "outputs": [],
   "source": [
    "model.compile(optimizer = tf.keras.optimizers.Adam(1e-3),\n",
    "                loss = tf.keras.losses.BinaryCrossentropy(from_logits=False),\n",
    "                metrics = ['accuracy'])"
   ]
  },
  {
   "cell_type": "code",
   "execution_count": 22,
   "metadata": {},
   "outputs": [
    {
     "name": "stdout",
     "output_type": "stream",
     "text": [
      "Epoch 1/10\n",
      "625/625 [==============================] - 83s 131ms/step - loss: 0.6889 - accuracy: 0.5226 - val_loss: 0.6626 - val_accuracy: 0.5657\n",
      "Epoch 2/10\n",
      "625/625 [==============================] - 93s 149ms/step - loss: 0.6193 - accuracy: 0.6659 - val_loss: 0.6555 - val_accuracy: 0.6573\n",
      "Epoch 3/10\n",
      "625/625 [==============================] - 83s 133ms/step - loss: 0.5762 - accuracy: 0.7271 - val_loss: 0.5123 - val_accuracy: 0.7849\n",
      "Epoch 4/10\n",
      "625/625 [==============================] - 86s 137ms/step - loss: 0.4876 - accuracy: 0.7921 - val_loss: 0.5190 - val_accuracy: 0.7778\n",
      "Epoch 5/10\n",
      "625/625 [==============================] - 86s 137ms/step - loss: 0.4528 - accuracy: 0.8225 - val_loss: 0.6096 - val_accuracy: 0.7116\n",
      "Epoch 6/10\n",
      "625/625 [==============================] - 83s 132ms/step - loss: 0.5141 - accuracy: 0.7439 - val_loss: 0.4893 - val_accuracy: 0.8198\n",
      "Epoch 7/10\n",
      "625/625 [==============================] - 83s 133ms/step - loss: 0.4985 - accuracy: 0.7313 - val_loss: 0.6768 - val_accuracy: 0.5462\n",
      "Epoch 8/10\n",
      "625/625 [==============================] - 84s 134ms/step - loss: 0.6415 - accuracy: 0.6227 - val_loss: 0.6897 - val_accuracy: 0.5875\n",
      "Epoch 9/10\n",
      "625/625 [==============================] - 81s 130ms/step - loss: 0.6382 - accuracy: 0.6425 - val_loss: 0.6906 - val_accuracy: 0.5975\n",
      "Epoch 10/10\n",
      "625/625 [==============================] - 82s 131ms/step - loss: 0.5968 - accuracy: 0.7036 - val_loss: 0.6739 - val_accuracy: 0.5550\n"
     ]
    }
   ],
   "source": [
    "history = model.fit(train_data, validation_data=valid_data, epochs=10)"
   ]
  },
  {
   "cell_type": "code",
   "execution_count": 23,
   "metadata": {},
   "outputs": [
    {
     "name": "stdout",
     "output_type": "stream",
     "text": [
      "782/782 [==============================] - 32s 41ms/step - loss: 0.6717 - accuracy: 0.5483\n"
     ]
    }
   ],
   "source": [
    "test_results = model.evaluate(test_data)"
   ]
  },
  {
   "cell_type": "code",
   "execution_count": 24,
   "metadata": {},
   "outputs": [
    {
     "name": "stdout",
     "output_type": "stream",
     "text": [
      "테스트 정확도 : 54.83%\n"
     ]
    }
   ],
   "source": [
    "print('테스트 정확도 : {:.2f}%'.format(test_results[1]*100))"
   ]
  }
 ],
 "metadata": {
  "kernelspec": {
   "display_name": "neural",
   "language": "python",
   "name": "python3"
  },
  "language_info": {
   "codemirror_mode": {
    "name": "ipython",
    "version": 3
   },
   "file_extension": ".py",
   "mimetype": "text/x-python",
   "name": "python",
   "nbconvert_exporter": "python",
   "pygments_lexer": "ipython3",
   "version": "3.7.15"
  },
  "orig_nbformat": 4,
  "vscode": {
   "interpreter": {
    "hash": "160d74d5e7a983232e4e8c8d020c6316a1b48b46ea07c1d090921fe6c0680d76"
   }
  }
 },
 "nbformat": 4,
 "nbformat_minor": 2
}
