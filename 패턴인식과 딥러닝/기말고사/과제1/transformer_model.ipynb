{
  "cells": [
    {
      "cell_type": "code",
      "execution_count": 1,
      "metadata": {
        "colab": {
          "base_uri": "https://localhost:8080/"
        },
        "id": "nYliNCZmTvLM",
        "outputId": "7d3f2ef8-bb16-40c1-9b41-9834d22b3c5c"
      },
      "outputs": [
        {
          "output_type": "stream",
          "name": "stdout",
          "text": [
            "전체 길이 1112300\n",
            "고유 문자 수 80\n"
          ]
        }
      ],
      "source": [
        "# 텍스트를 읽고 전처리( 불필요한 부분 삭제)\n",
        "import numpy as np\n",
        "\n",
        "with open('1268-0.txt', 'r', encoding='UTF8') as fp:\n",
        "    text = fp.read()\n",
        "\n",
        "start_index = text.find('THE MYSTERIOUS ISLAND')\n",
        "end_index = text.find('END OF THE PROJECT GUTENBERG')\n",
        "\n",
        "text = text[start_index:end_index]\n",
        "\n",
        "char_set = set(text)\n",
        "\n",
        "print(\"전체 길이\", len(text))\n",
        "print(\"고유 문자 수\", len(char_set))"
      ]
    },
    {
      "cell_type": "markdown",
      "source": [
        "# 새 섹션"
      ],
      "metadata": {
        "id": "8w3JoefbT5hy"
      }
    },
    {
      "cell_type": "code",
      "execution_count": 2,
      "metadata": {
        "id": "jKbe0RWkTvLR"
      },
      "outputs": [],
      "source": [
        "# 문자-정수 매핑 인코더 / 디코더 생성\n",
        "chars_sorted = sorted(char_set)\n",
        "\n",
        "char2int = {ch:i for i, ch in enumerate(chars_sorted)}\n",
        "\n",
        "char_array = np.array(chars_sorted)"
      ]
    },
    {
      "cell_type": "code",
      "execution_count": 3,
      "metadata": {
        "colab": {
          "base_uri": "https://localhost:8080/"
        },
        "id": "yHMUYchWTvLS",
        "outputId": "5c2b4730-f095-40c5-bd27-36906129ed94"
      },
      "outputs": [
        {
          "output_type": "stream",
          "name": "stdout",
          "text": [
            "인코딩된 텍스트 크기: (1112300,)\n"
          ]
        }
      ],
      "source": [
        "# 데이터셋 정수로 인코딩\n",
        "text_encoded = np.array(\n",
        "    [char2int[ch] for ch in text], dtype = np.int32)\n",
        "\n",
        "print(\"인코딩된 텍스트 크기:\", text_encoded.shape)"
      ]
    },
    {
      "cell_type": "code",
      "execution_count": 4,
      "metadata": {
        "colab": {
          "base_uri": "https://localhost:8080/"
        },
        "id": "UgDMWPWqTvLT",
        "outputId": "6e6d4148-54b1-46f4-cd0b-e5fb73c7acac"
      },
      "outputs": [
        {
          "output_type": "stream",
          "name": "stdout",
          "text": [
            "THE MYSTERIOUS  \t==인코딩==>\t [44 32 29  1 37 48 43 44 29 42 33 39 45 43  1]\n"
          ]
        }
      ],
      "source": [
        "# 데이터셋 인코딩 결과 확인\n",
        "print(text[: 15], \"\\t==인코딩==>\\t\", text_encoded[:15])"
      ]
    },
    {
      "cell_type": "code",
      "execution_count": 5,
      "metadata": {
        "colab": {
          "base_uri": "https://localhost:8080/"
        },
        "id": "_QwJNka8TvLU",
        "outputId": "449f1e2c-35d5-43fd-985e-d7ab2e32b0a7"
      },
      "outputs": [
        {
          "output_type": "stream",
          "name": "stdout",
          "text": [
            "[33 43 36 25 38 28] \t==디코딩==>\t ['I' 'S' 'L' 'A' 'N' 'D']\n"
          ]
        }
      ],
      "source": [
        "# 데이터셋 디코딩 테스트\n",
        "print(text_encoded[15:21], \"\\t==디코딩==>\\t\", char_array[text_encoded[15:21]])"
      ]
    },
    {
      "cell_type": "code",
      "execution_count": 6,
      "metadata": {
        "id": "z8d7KuYhTvLU"
      },
      "outputs": [],
      "source": [
        "import os\n",
        "os.environ['TF_CPP_MIN_LOG_LEVEL'] = '3' # TF warning 메세지 제외\n",
        "os.environ[\"CUDA_VISIBLE_DEVICES\"] = '0' # 0 번 GRU 선택\n",
        "\n",
        "import tensorflow as tf\n",
        "\n",
        "config = tf.compat.v1.ConfigProto()\n",
        "config.gpu_options.allow_growth = True\n",
        "session = tf.compat.v1.compat.v1.Session(config=config)"
      ]
    },
    {
      "cell_type": "code",
      "execution_count": 7,
      "metadata": {
        "id": "uHGpxDvMTvLV"
      },
      "outputs": [],
      "source": [
        "import tensorflow as tf\n",
        "\n",
        "ds_text_encoded = tf.data.Dataset.from_tensor_slices(text_encoded)"
      ]
    },
    {
      "cell_type": "code",
      "execution_count": 8,
      "metadata": {
        "colab": {
          "base_uri": "https://localhost:8080/"
        },
        "id": "-LapORibTvLW",
        "outputId": "fc439b7e-44f7-443a-e494-c363eb4267fd"
      },
      "outputs": [
        {
          "output_type": "stream",
          "name": "stdout",
          "text": [
            "44->T\n",
            "32->H\n",
            "29->E\n",
            "1-> \n",
            "37->M\n"
          ]
        }
      ],
      "source": [
        "for ex in ds_text_encoded.take(5):\n",
        "    print(\"{}->{}\".format(ex.numpy(), char_array[ex.numpy()]))"
      ]
    },
    {
      "cell_type": "code",
      "execution_count": 9,
      "metadata": {
        "colab": {
          "base_uri": "https://localhost:8080/"
        },
        "id": "rHUN_H4FTvLX",
        "outputId": "c1ac518a-c25b-4e1e-9704-36a875c46daa"
      },
      "outputs": [
        {
          "output_type": "stream",
          "name": "stdout",
          "text": [
            "입력 (x): 'THE MYSTERIOUS ISLAND ***\\n\\n\\n\\n\\nTHE MYSTER'\n",
            "입력 (y): 'THE MYSTERIOUS ISLAND ***\\n\\n\\n\\n\\nTHE MYSTER'\n",
            "\n",
            "입력 (x): 'OUS ISLAND\\n\\nby Jules Verne\\n\\n1874\\n\\n\\n\\n\\nPAR'\n",
            "입력 (y): 'OUS ISLAND\\n\\nby Jules Verne\\n\\n1874\\n\\n\\n\\n\\nPAR'\n",
            "\n"
          ]
        }
      ],
      "source": [
        "seq_length = 40\n",
        "chunk_size = seq_length + 1\n",
        "\n",
        "# ds_chunks 입력 / 타겟 데이터를 만들기 위하여 길이 41(=배치 41)로 만든 데이터셋\n",
        "ds_chunks = ds_text_encoded.batch(chunk_size, drop_remainder=True)\n",
        "\n",
        "# x&y를 나누기 위한 함수 정의\n",
        "def split_input_target(chunk):\n",
        "    input_seq = chunk[:-1]\n",
        "    target_seq = chunk[1:]\n",
        "    return input_seq, target_seq\n",
        "\n",
        "# map 메서드를 이용하여 입력/ 타겟 데이터로 나누어진 데이터 셋\n",
        "ds_sequences = ds_chunks.map(split_input_target)\n",
        "\n",
        "# 입력 / 타겟 데이터 쌍 2개를 추출하여 출력\n",
        "for example in ds_sequences.take(2):\n",
        "    print('입력 (x):', repr(''.join(char_array[example[0].numpy()])))\n",
        "    print('입력 (y):', repr(''.join(char_array[example[0].numpy()])))\n",
        "    print()"
      ]
    },
    {
      "cell_type": "code",
      "execution_count": 10,
      "metadata": {
        "id": "BKVkYKdlTvLY"
      },
      "outputs": [],
      "source": [
        "# 배치생성\n",
        "BATCH_SIZE = 64\n",
        "BUFFER_SIZE = 10000\n",
        "\n",
        "tf.random.set_seed(1)\n",
        "ds = ds_sequences.shuffle(BUFFER_SIZE).batch(BATCH_SIZE)"
      ]
    },
    {
      "cell_type": "code",
      "execution_count": 11,
      "metadata": {
        "colab": {
          "base_uri": "https://localhost:8080/"
        },
        "id": "ngkQQmISTvLY",
        "outputId": "a5cda4ba-939e-4d10-d685-2ae572093414"
      },
      "outputs": [
        {
          "output_type": "stream",
          "name": "stdout",
          "text": [
            "Model: \"sequential\"\n",
            "_________________________________________________________________\n",
            " Layer (type)                Output Shape              Param #   \n",
            "=================================================================\n",
            " embedding (Embedding)       (None, None, 256)         20480     \n",
            "                                                                 \n",
            " lstm (LSTM)                 (None, None, 512)         1574912   \n",
            "                                                                 \n",
            " dense (Dense)               (None, None, 80)          41040     \n",
            "                                                                 \n",
            "=================================================================\n",
            "Total params: 1,636,432\n",
            "Trainable params: 1,636,432\n",
            "Non-trainable params: 0\n",
            "_________________________________________________________________\n"
          ]
        }
      ],
      "source": [
        "# 매개변수 설정\n",
        "vocab_size = len(char_array)\n",
        "embedding_dim = 256 \n",
        "rnn_units = 512 \n",
        "\n",
        "# RNN 모델 생성\n",
        "model = tf.keras.Sequential([\n",
        "    tf.keras.layers.Embedding(vocab_size, embedding_dim),\n",
        "    tf.keras.layers.LSTM(\n",
        "        rnn_units,\n",
        "        return_sequences=True),\n",
        "    tf.keras.layers.Dense(vocab_size)\n",
        "])\n",
        "\n",
        "model.summary()"
      ]
    },
    {
      "cell_type": "code",
      "execution_count": 12,
      "metadata": {
        "id": "ZQpupXxrTvLZ"
      },
      "outputs": [],
      "source": [
        "model.compile(optimizer='adam',\n",
        "              loss = tf.keras.losses.SparseCategoricalCrossentropy(from_logits=True))"
      ]
    },
    {
      "cell_type": "code",
      "execution_count": 13,
      "metadata": {
        "colab": {
          "base_uri": "https://localhost:8080/"
        },
        "id": "s-1Vs71tTvLZ",
        "outputId": "f7760300-d8a8-499f-d54c-f469fd086874"
      },
      "outputs": [
        {
          "output_type": "stream",
          "name": "stdout",
          "text": [
            "Epoch 1/20\n",
            "424/424 [==============================] - 12s 8ms/step - loss: 2.3284\n",
            "Epoch 2/20\n",
            "424/424 [==============================] - 4s 8ms/step - loss: 1.7666\n",
            "Epoch 3/20\n",
            "424/424 [==============================] - 4s 8ms/step - loss: 1.5604\n",
            "Epoch 4/20\n",
            "424/424 [==============================] - 4s 8ms/step - loss: 1.4390\n",
            "Epoch 5/20\n",
            "424/424 [==============================] - 4s 8ms/step - loss: 1.3614\n",
            "Epoch 6/20\n",
            "424/424 [==============================] - 4s 8ms/step - loss: 1.3076\n",
            "Epoch 7/20\n",
            "424/424 [==============================] - 4s 8ms/step - loss: 1.2676\n",
            "Epoch 8/20\n",
            "424/424 [==============================] - 4s 8ms/step - loss: 1.2365\n",
            "Epoch 9/20\n",
            "424/424 [==============================] - 4s 8ms/step - loss: 1.2099\n",
            "Epoch 10/20\n",
            "424/424 [==============================] - 4s 8ms/step - loss: 1.1876\n",
            "Epoch 11/20\n",
            "424/424 [==============================] - 4s 8ms/step - loss: 1.1679\n",
            "Epoch 12/20\n",
            "424/424 [==============================] - 4s 8ms/step - loss: 1.1502\n",
            "Epoch 13/20\n",
            "424/424 [==============================] - 4s 8ms/step - loss: 1.1333\n",
            "Epoch 14/20\n",
            "424/424 [==============================] - 4s 8ms/step - loss: 1.1182\n",
            "Epoch 15/20\n",
            "424/424 [==============================] - 4s 8ms/step - loss: 1.1036\n",
            "Epoch 16/20\n",
            "424/424 [==============================] - 4s 8ms/step - loss: 1.0899\n",
            "Epoch 17/20\n",
            "424/424 [==============================] - 4s 8ms/step - loss: 1.0766\n",
            "Epoch 18/20\n",
            "424/424 [==============================] - 4s 8ms/step - loss: 1.0637\n",
            "Epoch 19/20\n",
            "424/424 [==============================] - 4s 8ms/step - loss: 1.0508\n",
            "Epoch 20/20\n",
            "424/424 [==============================] - 4s 8ms/step - loss: 1.0385\n"
          ]
        }
      ],
      "source": [
        "hist = model.fit(ds, epochs = 20)"
      ]
    },
    {
      "cell_type": "code",
      "execution_count": 14,
      "metadata": {
        "colab": {
          "base_uri": "https://localhost:8080/"
        },
        "id": "ZLqxu8y-TvLa",
        "outputId": "23a55c68-99b5-450c-867f-99784a4d76a4"
      },
      "outputs": [
        {
          "output_type": "stream",
          "name": "stdout",
          "text": [
            "클래스 별 확률 값 [0.10650698 0.10650698 0.78698605]\n"
          ]
        }
      ],
      "source": [
        "tf.random.set_seed(1)\n",
        "\n",
        "# 로짓 출력 1.0, 1.0, 3.0 이라 가정 (출력유닛 3개)\n",
        "logits = [[1.0, 1.0, 3.0]]\n",
        "\n",
        "print(\"클래스 별 확률 값\", tf.math.softmax(logits).numpy()[0])"
      ]
    },
    {
      "cell_type": "code",
      "execution_count": 15,
      "metadata": {
        "colab": {
          "base_uri": "https://localhost:8080/"
        },
        "id": "OM2WBq8rTvLa",
        "outputId": "3ddbec89-ca19-4a3b-95b2-ea41b402a79f"
      },
      "outputs": [
        {
          "output_type": "stream",
          "name": "stdout",
          "text": [
            "array([[2, 2, 0, 2, 2, 2, 2, 2, 1, 2]])\n"
          ]
        }
      ],
      "source": [
        "# logits 의 각 클래스별 확률 분포로부터 길이 10의 샘플 데이터 생성\n",
        "samples= tf.random.categorical(logits=logits, num_samples=10)\n",
        "\n",
        "tf.print(samples.numpy())"
      ]
    },
    {
      "cell_type": "code",
      "execution_count": 16,
      "metadata": {
        "id": "HxQ7OZuTTvLa"
      },
      "outputs": [],
      "source": [
        "def generate_samples(model, starting_str,\n",
        "                     len_generated_text=500,\n",
        "                     max_input_length=40,\n",
        "                     scale_factor=1.0):\n",
        "  encoded_input = [char2int[s] for s in starting_str] # encoded_input.shape: (텍스트길이,)\n",
        "  encoded_input = tf.reshape(encoded_input, (1, -1)) # encoded_input.shape: (1, 텍스트길이)\n",
        "\n",
        "  generated_str = starting_str\n",
        "\n",
        "  # 모델의 상태 매개변수 초기화\n",
        "  model.reset_states()\n",
        "\n",
        "  for i in range(len_generated_text):\n",
        "    logits = model(encoded_input) # logits.shape (1, 텍스트길이 ~ max_input_length, 80)\n",
        "    \n",
        "    # squeeze 크기가 1인 차원 제거 logits.shape (텍스트길이 ~ max_input_length, 80)\n",
        "    logits = tf.squeeze(logits, 0)\n",
        "    \n",
        "    scaled_logits = logits * scale_factor\n",
        "    \n",
        "    # 각 타임스텝에서 1개 글자 생성\n",
        "    new_char_idx = tf.random.categorical(scaled_logits, num_samples=1)\n",
        "\n",
        "    # 가장 마지막 글자를 갖고와서 생성할 텍스트에 추가\n",
        "    new_char_idx = tf.squeeze(new_char_idx)[-1].numpy()\n",
        "\n",
        "    generated_str += str(char_array[new_char_idx])\n",
        "\n",
        "    # 현재 출력을 다음 입력으로 넣기위해 준비\n",
        "    new_char_idx = tf.expand_dims([new_char_idx], 0)\n",
        "    encoded_input = tf.concat([encoded_input, new_char_idx], axis=1)\n",
        "\n",
        "    encoded_input = encoded_input[:, -max_input_length:]\n",
        "\n",
        "  return generated_str"
      ]
    },
    {
      "cell_type": "code",
      "execution_count": 17,
      "metadata": {
        "colab": {
          "base_uri": "https://localhost:8080/"
        },
        "id": "7bwV8ccDTvLb",
        "outputId": "ff4a987a-187b-44d8-db58-bc8d3ce17095"
      },
      "outputs": [
        {
          "output_type": "stream",
          "name": "stdout",
          "text": [
            "The island was explored them for it was Herbert.\n",
            "\n",
            "“Yes! captain!” answered Harding, “this is to arout geneme cerrider, would absopph to make their first time he had no\n",
            "worthy cold. “Take a new wairical blade, and,\n",
            "listen\n",
            "the case of the capes cast fire a senterchies of the dutara to the corral was complete. The excetellars in Lake Grant, bedno-glees, is excession wander.\n",
            "\n",
            "It was evident that his having began to black useful to the intense sea. The vessel was\n",
            "suspected. They swarmed into shricks, situation\n"
          ]
        }
      ],
      "source": [
        "tf.random.set_seed(1)\n",
        "print(generate_samples(model, starting_str=\"The island\"))"
      ]
    },
    {
      "cell_type": "code",
      "execution_count": 19,
      "metadata": {
        "colab": {
          "base_uri": "https://localhost:8080/"
        },
        "id": "x5H31_sdTvLb",
        "outputId": "c6d6830f-8d82-42ce-ba98-86dc73e72435"
      },
      "outputs": [
        {
          "output_type": "stream",
          "name": "stdout",
          "text": [
            "스케일 조정 전의 확률:    [0.10650698 0.10650698 0.78698604]\n",
            "0.5배 조정 후 확률:    [0.21194156 0.21194156 0.57611688]\n",
            "0.1배 조정 후 확률:    [0.31042377 0.31042377 0.37915245]\n"
          ]
        }
      ],
      "source": [
        "# scale_factor 조정에 따른 확률 값\n",
        "logits = np.array([[1.0, 1.0, 3.0]])\n",
        "\n",
        "print('스케일 조정 전의 확률:   ', tf.math.softmax(logits).numpy()[0])\n",
        "print('0.5배 조정 후 확률:   ', tf.math.softmax(0.5*logits).numpy()[0])\n",
        "print('0.1배 조정 후 확률:   ', tf.math.softmax(0.1*logits).numpy()[0])"
      ]
    },
    {
      "cell_type": "code",
      "execution_count": 20,
      "metadata": {
        "colab": {
          "base_uri": "https://localhost:8080/"
        },
        "id": "78XQTt17TvLc",
        "outputId": "96e6a695-33b5-46ca-b118-9380ec12ea41"
      },
      "outputs": [
        {
          "output_type": "stream",
          "name": "stdout",
          "text": [
            "The island was explored the shore, and the most part of the vessel never having turned the obtain.\n",
            "\n",
            "“The colonists had been the dark glass. The poor productions of the island was as easy to escape the most side, and soon reserved the colony.\n",
            "\n",
            "It was evidently no result to the approach of the corral. The water from the morning of the mountain.\n",
            "\n",
            "“And what did you are no marshes was there as it might have been able to find them.”\n",
            "\n",
            "The colonists had already been sent at the bottom of the mountain, and the isl\n"
          ]
        }
      ],
      "source": [
        "tf.random.set_seed(1)\n",
        "print(generate_samples(model, starting_str=\"The island\", scale_factor=2.0))"
      ]
    },
    {
      "cell_type": "code",
      "execution_count": 21,
      "metadata": {
        "colab": {
          "base_uri": "https://localhost:8080/"
        },
        "id": "yBJR5wAYTvLc",
        "outputId": "b317c4b4-190a-4ee0-9654-557b334dc6bf"
      },
      "outputs": [
        {
          "output_type": "stream",
          "name": "stdout",
          "text": [
            "The island had egbly place Cyrut 9\n",
            "gig 1Ha” wound you again,” returned\n",
            "Herbert-lap,--tho case to roub gunf-mace,\n",
            "supportohes\n",
            "visipeh gaz;\n",
            "unflun-Dourtry,\n",
            "sin heart; Anxisyen Jup’, sixaptimmed awaid, carble voice at Farr,\n",
            "ragage\n",
            "barqey. But Chouse, five feet in thier no sogoous.\n",
            "\n",
            "He’n,! answered Cyrus Harding an excetelly Ayrtonly, untilet\n",
            "the\n",
            "followings,\n",
            "smenizen glneemiar animare.\n",
            "\n",
            "Yet have millid. He had calredly\n",
            "found\n",
            "gual, ob0,”\n",
            " answered. These ungfaltnws were wele\n",
            "by the rooms, dlazures\n",
            "no Jutt 9 Ex\n"
          ]
        }
      ],
      "source": [
        "tf.random.set_seed(1)\n",
        "print(generate_samples(model, starting_str=\"The island\", scale_factor=0.5))"
      ]
    },
    {
      "cell_type": "code",
      "execution_count": 24,
      "metadata": {
        "id": "nByNZEIfTvLc"
      },
      "outputs": [],
      "source": [
        "class TransformerBlock(tf.keras.layers.Layer): \n",
        "  def __init__(self, embed_dim, num_heads, ff_dim):\n",
        "    super(TransformerBlock, self).__init__()\n",
        "    self.att = tf.keras.layers.MultiHeadAttention(num_heads=num_heads, key_dim=embed_dim)\n",
        "    self.ffn = tf.keras.Sequential(\n",
        "        [tf.keras.layers.Dense(ff_dim, activation='relu'),\n",
        "         tf.keras.layers.Dense(embed_dim)]\n",
        "    )\n",
        "\n",
        "    self.layernorm1 = tf.keras.layers.LayerNormalization(epsilon=1e-6)\n",
        "    self.layernorm2 = tf.keras.layers.LayerNormalization(epsilon=1e-6)\n",
        "\n",
        "  def call(self, inputs, training):\n",
        "    attn_output = self.att(inputs, inputs)\n",
        "    out1 = self.layernorm1(inputs + attn_output)\n",
        "    ffn_output = self.ffn(out1)\n",
        "\n",
        "    return self.layernorm2(out1 + ffn_output)"
      ]
    },
    {
      "cell_type": "code",
      "source": [
        "# Pandas 를 포함한 실습에 필요한 모듈 추가가\n",
        "import tensorflow as tf\n",
        "import tensorflow_datasets as tfds\n",
        "import numpy as np\n",
        "\n",
        "import pandas as pd"
      ],
      "metadata": {
        "id": "fnWSx4NUXzaL"
      },
      "execution_count": 25,
      "outputs": []
    },
    {
      "cell_type": "code",
      "source": [
        "# 데이터셋 파일 Pandas 데이터프레임으로 불러오기\n",
        "df = pd.read_csv('movie_data.csv', encoding='utf-8')"
      ],
      "metadata": {
        "id": "MQxec34PX0Zh"
      },
      "execution_count": 27,
      "outputs": []
    },
    {
      "cell_type": "code",
      "source": [
        "# 상위 5개 데이터 읽어오기\n",
        "df.head(5)"
      ],
      "metadata": {
        "colab": {
          "base_uri": "https://localhost:8080/",
          "height": 206
        },
        "id": "J3ANGuAYZvCG",
        "outputId": "c9b72ccd-6ba7-431c-f9d1-12ae33738db2"
      },
      "execution_count": 28,
      "outputs": [
        {
          "output_type": "execute_result",
          "data": {
            "text/plain": [
              "                                              review  sentiment\n",
              "0  In 1974, the teenager Martha Moxley (Maggie Gr...          1\n",
              "1  OK... so... I really like Kris Kristofferson a...          0\n",
              "2  ***SPOILER*** Do not read this, if you think a...          0\n",
              "3  hi for all the people who have seen this wonde...          1\n",
              "4  I recently bought the DVD, forgetting just how...          0"
            ],
            "text/html": [
              "\n",
              "  <div id=\"df-12793f83-1cbc-482f-b459-1b52f7091631\">\n",
              "    <div class=\"colab-df-container\">\n",
              "      <div>\n",
              "<style scoped>\n",
              "    .dataframe tbody tr th:only-of-type {\n",
              "        vertical-align: middle;\n",
              "    }\n",
              "\n",
              "    .dataframe tbody tr th {\n",
              "        vertical-align: top;\n",
              "    }\n",
              "\n",
              "    .dataframe thead th {\n",
              "        text-align: right;\n",
              "    }\n",
              "</style>\n",
              "<table border=\"1\" class=\"dataframe\">\n",
              "  <thead>\n",
              "    <tr style=\"text-align: right;\">\n",
              "      <th></th>\n",
              "      <th>review</th>\n",
              "      <th>sentiment</th>\n",
              "    </tr>\n",
              "  </thead>\n",
              "  <tbody>\n",
              "    <tr>\n",
              "      <th>0</th>\n",
              "      <td>In 1974, the teenager Martha Moxley (Maggie Gr...</td>\n",
              "      <td>1</td>\n",
              "    </tr>\n",
              "    <tr>\n",
              "      <th>1</th>\n",
              "      <td>OK... so... I really like Kris Kristofferson a...</td>\n",
              "      <td>0</td>\n",
              "    </tr>\n",
              "    <tr>\n",
              "      <th>2</th>\n",
              "      <td>***SPOILER*** Do not read this, if you think a...</td>\n",
              "      <td>0</td>\n",
              "    </tr>\n",
              "    <tr>\n",
              "      <th>3</th>\n",
              "      <td>hi for all the people who have seen this wonde...</td>\n",
              "      <td>1</td>\n",
              "    </tr>\n",
              "    <tr>\n",
              "      <th>4</th>\n",
              "      <td>I recently bought the DVD, forgetting just how...</td>\n",
              "      <td>0</td>\n",
              "    </tr>\n",
              "  </tbody>\n",
              "</table>\n",
              "</div>\n",
              "      <button class=\"colab-df-convert\" onclick=\"convertToInteractive('df-12793f83-1cbc-482f-b459-1b52f7091631')\"\n",
              "              title=\"Convert this dataframe to an interactive table.\"\n",
              "              style=\"display:none;\">\n",
              "        \n",
              "  <svg xmlns=\"http://www.w3.org/2000/svg\" height=\"24px\"viewBox=\"0 0 24 24\"\n",
              "       width=\"24px\">\n",
              "    <path d=\"M0 0h24v24H0V0z\" fill=\"none\"/>\n",
              "    <path d=\"M18.56 5.44l.94 2.06.94-2.06 2.06-.94-2.06-.94-.94-2.06-.94 2.06-2.06.94zm-11 1L8.5 8.5l.94-2.06 2.06-.94-2.06-.94L8.5 2.5l-.94 2.06-2.06.94zm10 10l.94 2.06.94-2.06 2.06-.94-2.06-.94-.94-2.06-.94 2.06-2.06.94z\"/><path d=\"M17.41 7.96l-1.37-1.37c-.4-.4-.92-.59-1.43-.59-.52 0-1.04.2-1.43.59L10.3 9.45l-7.72 7.72c-.78.78-.78 2.05 0 2.83L4 21.41c.39.39.9.59 1.41.59.51 0 1.02-.2 1.41-.59l7.78-7.78 2.81-2.81c.8-.78.8-2.07 0-2.86zM5.41 20L4 18.59l7.72-7.72 1.47 1.35L5.41 20z\"/>\n",
              "  </svg>\n",
              "      </button>\n",
              "      \n",
              "  <style>\n",
              "    .colab-df-container {\n",
              "      display:flex;\n",
              "      flex-wrap:wrap;\n",
              "      gap: 12px;\n",
              "    }\n",
              "\n",
              "    .colab-df-convert {\n",
              "      background-color: #E8F0FE;\n",
              "      border: none;\n",
              "      border-radius: 50%;\n",
              "      cursor: pointer;\n",
              "      display: none;\n",
              "      fill: #1967D2;\n",
              "      height: 32px;\n",
              "      padding: 0 0 0 0;\n",
              "      width: 32px;\n",
              "    }\n",
              "\n",
              "    .colab-df-convert:hover {\n",
              "      background-color: #E2EBFA;\n",
              "      box-shadow: 0px 1px 2px rgba(60, 64, 67, 0.3), 0px 1px 3px 1px rgba(60, 64, 67, 0.15);\n",
              "      fill: #174EA6;\n",
              "    }\n",
              "\n",
              "    [theme=dark] .colab-df-convert {\n",
              "      background-color: #3B4455;\n",
              "      fill: #D2E3FC;\n",
              "    }\n",
              "\n",
              "    [theme=dark] .colab-df-convert:hover {\n",
              "      background-color: #434B5C;\n",
              "      box-shadow: 0px 1px 3px 1px rgba(0, 0, 0, 0.15);\n",
              "      filter: drop-shadow(0px 1px 2px rgba(0, 0, 0, 0.3));\n",
              "      fill: #FFFFFF;\n",
              "    }\n",
              "  </style>\n",
              "\n",
              "      <script>\n",
              "        const buttonEl =\n",
              "          document.querySelector('#df-12793f83-1cbc-482f-b459-1b52f7091631 button.colab-df-convert');\n",
              "        buttonEl.style.display =\n",
              "          google.colab.kernel.accessAllowed ? 'block' : 'none';\n",
              "\n",
              "        async function convertToInteractive(key) {\n",
              "          const element = document.querySelector('#df-12793f83-1cbc-482f-b459-1b52f7091631');\n",
              "          const dataTable =\n",
              "            await google.colab.kernel.invokeFunction('convertToInteractive',\n",
              "                                                     [key], {});\n",
              "          if (!dataTable) return;\n",
              "\n",
              "          const docLinkHtml = 'Like what you see? Visit the ' +\n",
              "            '<a target=\"_blank\" href=https://colab.research.google.com/notebooks/data_table.ipynb>data table notebook</a>'\n",
              "            + ' to learn more about interactive tables.';\n",
              "          element.innerHTML = '';\n",
              "          dataTable['output_type'] = 'display_data';\n",
              "          await google.colab.output.renderOutput(dataTable, element);\n",
              "          const docLink = document.createElement('div');\n",
              "          docLink.innerHTML = docLinkHtml;\n",
              "          element.appendChild(docLink);\n",
              "        }\n",
              "      </script>\n",
              "    </div>\n",
              "  </div>\n",
              "  "
            ]
          },
          "metadata": {},
          "execution_count": 28
        }
      ]
    },
    {
      "cell_type": "code",
      "source": [
        "# 1단계 데이터셋 만들기\n",
        "target = df.pop('sentiment') # sentiment 컬럼의 데이터만 추출(df에서 해당 컬럼 사라짐)\n",
        "\n",
        "# 텐서플로 데이터셋 객체로 생성,\n",
        "# 하나의 데이터는 (리뷰 텍스트, sentiment 레이블 값)\n",
        "ds_raw = tf.data.Dataset.from_tensor_slices((df.values, target.values))"
      ],
      "metadata": {
        "id": "83no5_cdZvcy"
      },
      "execution_count": 29,
      "outputs": []
    },
    {
      "cell_type": "code",
      "source": [
        "# 확인\n",
        "for ex in ds_raw.take(5):\n",
        "    tf.print(ex[0].numpy()[0][ : 50], ex[1])"
      ],
      "metadata": {
        "colab": {
          "base_uri": "https://localhost:8080/"
        },
        "id": "wlGbt1DIZwcR",
        "outputId": "1d1ae15a-9b50-463a-bea0-72ecb8c665a3"
      },
      "execution_count": 30,
      "outputs": [
        {
          "output_type": "stream",
          "name": "stdout",
          "text": [
            "b'In 1974, the teenager Martha Moxley (Maggie Grace)' 1\n",
            "b'OK... so... I really like Kris Kristofferson and h' 0\n",
            "b'***SPOILER*** Do not read this, if you think about' 0\n",
            "b'hi for all the people who have seen this wonderful' 1\n",
            "b'I recently bought the DVD, forgetting just how muc' 0\n"
          ]
        }
      ]
    },
    {
      "cell_type": "code",
      "source": [
        "tf.random.set_seed(1)\n",
        "\n",
        "ds_raw = ds_raw.shuffle(50000, reshuffle_each_iteration=False)\n",
        "\n",
        "ds_raw_test = ds_raw.take(25000)\n",
        "ds_raw_train_valid = ds_raw.skip(25000)\n",
        "\n",
        "ds_raw_train = ds_raw_train_valid.take(20000)\n",
        "ds_raw_valid = ds_raw_train_valid.skip(20000)"
      ],
      "metadata": {
        "id": "TjsZHxC3ZxQz"
      },
      "execution_count": 31,
      "outputs": []
    },
    {
      "cell_type": "code",
      "source": [
        "# 2단계 : 고유 토큰(단어) 찾기\n",
        "from collections import Counter\n",
        "\n",
        "tokenizer = tfds.deprecated.text.Tokenizer()\n",
        "token_counts = Counter()\n",
        "\n",
        "max_seq_length = 100 # 추가코드 1: Sequence 슬라이스용 변수\n",
        "\n",
        "for example in ds_raw_train:\n",
        "    tokens = tokenizer.tokenize(example[0].numpy()[0])\n",
        "    tokens = tokens[-max_seq_length : ] # 추가코드 2: 시퀸스의 마지막에서부터 max_seq_length 만큼 슬라이스\n",
        "    token_counts.update(tokens)\n",
        "\n",
        "print(\"어휘 사전 크기:\", len(token_counts))"
      ],
      "metadata": {
        "colab": {
          "base_uri": "https://localhost:8080/"
        },
        "id": "wRn3eQ0gZy7q",
        "outputId": "c55c5e86-decc-41a2-9dd3-ab2b38be1df4"
      },
      "execution_count": 32,
      "outputs": [
        {
          "output_type": "stream",
          "name": "stdout",
          "text": [
            "어휘 사전 크기: 58063\n"
          ]
        }
      ]
    },
    {
      "cell_type": "code",
      "source": [
        "# 3단계: 고유 토큰을 정수로 인코딩\n",
        "\n",
        "encoder = tfds.deprecated.text.TokenTextEncoder(token_counts)\n",
        "\n",
        "example_str = 'This is an Example!'\n",
        "print(encoder.encode(example_str))"
      ],
      "metadata": {
        "colab": {
          "base_uri": "https://localhost:8080/"
        },
        "id": "AEqzj5cWZzv6",
        "outputId": "e6fbb411-20ee-4746-d999-6c82fa83e953"
      },
      "execution_count": 33,
      "outputs": [
        {
          "output_type": "stream",
          "name": "stdout",
          "text": [
            "[374, 209, 104, 26885]\n"
          ]
        }
      ]
    },
    {
      "cell_type": "code",
      "source": [
        "# 인코더에 토큰 사이즈 37p\n",
        "encoder.vocab_size"
      ],
      "metadata": {
        "colab": {
          "base_uri": "https://localhost:8080/"
        },
        "id": "rPyiN0C8Z04-",
        "outputId": "0fa29950-e878-4607-ac5a-69f2cdf4a628"
      },
      "execution_count": 34,
      "outputs": [
        {
          "output_type": "execute_result",
          "data": {
            "text/plain": [
              "58065"
            ]
          },
          "metadata": {},
          "execution_count": 34
        }
      ]
    },
    {
      "cell_type": "code",
      "source": [
        "# 3-A 단계: 변환을 위한 함수 정의\n",
        "def encode(text_tensor, label):\n",
        "    text = text_tensor.numpy()[0] # map() 메서드에서는 즉시 실행 불가\n",
        "    encoded_text = encoder.encode(text)\n",
        "\n",
        "    encoded_text = encoded_text[-max_seq_length : ] # 추가코드 3: 시퀸스의 마지막에서부터 max_seq_length 만큼 슬라이스\n",
        "\n",
        "    return encoded_text, label"
      ],
      "metadata": {
        "id": "cBnbcDKrZ1s0"
      },
      "execution_count": 35,
      "outputs": []
    },
    {
      "cell_type": "code",
      "source": [
        "# 3-B 단계: 함수를 TF 연산으로 변환\n",
        "# tf.py_function으로 감싸 map() 메서드가 가능하도록 텐서플로 연산으로 변환\n",
        "def encode_map_fn(text, label):\n",
        "    return tf.py_function(encode, inp=[text, label], Tout=(tf.int64, tf.int64))"
      ],
      "metadata": {
        "id": "jc2SIqziZ2iQ"
      },
      "execution_count": 36,
      "outputs": []
    },
    {
      "cell_type": "code",
      "source": [
        "ds_train = ds_raw_train.map(encode_map_fn)\n",
        "ds_valid = ds_raw_valid.map(encode_map_fn)\n",
        "ds_test = ds_raw_test.map(encode_map_fn)"
      ],
      "metadata": {
        "id": "nfSgzkCZZ3ZK"
      },
      "execution_count": 37,
      "outputs": []
    },
    {
      "cell_type": "code",
      "source": [
        "# 샘플의 크기 확인\n",
        "tf.random.set_seed(1)\n",
        "\n",
        "for example in ds_train.shuffle(1000).take(5):\n",
        "    print(\"시퀀스 길이 :\", example[0].shape)"
      ],
      "metadata": {
        "colab": {
          "base_uri": "https://localhost:8080/"
        },
        "id": "goJLbZ2bZ4P4",
        "outputId": "8d57e4a2-497f-43dd-e6fe-53f588dd74e1"
      },
      "execution_count": 38,
      "outputs": [
        {
          "output_type": "stream",
          "name": "stdout",
          "text": [
            "시퀀스 길이 : (24,)\n",
            "시퀀스 길이 : (100,)\n",
            "시퀀스 길이 : (100,)\n",
            "시퀀스 길이 : (100,)\n",
            "시퀀스 길이 : (100,)\n"
          ]
        }
      ]
    },
    {
      "cell_type": "code",
      "source": [
        "# padded_batch() 테스트를 위한 일부 데이터 추출\n",
        "ds_subset = ds_train.take(8)\n",
        "\n",
        "for example in ds_subset:\n",
        "    print(\"개별 샘플크기:\", example[0].shape)"
      ],
      "metadata": {
        "colab": {
          "base_uri": "https://localhost:8080/"
        },
        "id": "MlOpB01mZ5NJ",
        "outputId": "4daf9f7f-e426-40c6-b0e4-e93d45b88ccd"
      },
      "execution_count": 39,
      "outputs": [
        {
          "output_type": "stream",
          "name": "stdout",
          "text": [
            "개별 샘플크기: (100,)\n",
            "개별 샘플크기: (100,)\n",
            "개별 샘플크기: (100,)\n",
            "개별 샘플크기: (100,)\n",
            "개별 샘플크기: (100,)\n",
            "개별 샘플크기: (100,)\n",
            "개별 샘플크기: (100,)\n",
            "개별 샘플크기: (100,)\n"
          ]
        }
      ]
    },
    {
      "cell_type": "code",
      "source": [
        "# 배치 데이터 만들기\n",
        "ds_batched = ds_subset.padded_batch(4, padded_shapes=([-1], []))\n",
        "\n",
        "for batch in ds_batched:\n",
        "    print(\"배치 지원:\", batch[0].shape)"
      ],
      "metadata": {
        "colab": {
          "base_uri": "https://localhost:8080/"
        },
        "id": "9RAd3xLOZ6q4",
        "outputId": "d6bb5fe3-9d28-417b-a9c8-97b73757d1fb"
      },
      "execution_count": 40,
      "outputs": [
        {
          "output_type": "stream",
          "name": "stdout",
          "text": [
            "배치 지원: (4, 100)\n",
            "배치 지원: (4, 100)\n"
          ]
        }
      ]
    },
    {
      "cell_type": "code",
      "source": [
        "train_data = ds_train.padded_batch(32, padded_shapes=([-1], []))\n",
        "valid_data = ds_valid.padded_batch(32, padded_shapes=([-1], []))\n",
        "test_data = ds_test.padded_batch(32, padded_shapes=([-1], []))"
      ],
      "metadata": {
        "id": "wq3vgURDZ785"
      },
      "execution_count": 41,
      "outputs": []
    },
    {
      "cell_type": "code",
      "source": [
        "embedding_dim = 32 # 임베딩 차원수를 저장하기 위한 변수\n",
        "vocab_size = len(token_counts) + 2 # 임베딩 레이어 입력 차원 수, 고유 단어 수 + 2\n",
        "\n",
        "tf.random.set_seed(1)\n",
        "\n",
        "transformer_block = TransformerBlock(embedding_dim, num_heads=2, ff_dim=32)\n",
        "\n",
        "inputs = tf.keras.layers.Input(shape=(max_seq_length,))\n",
        "\n",
        "x = tf.keras.layers.Embedding(input_dim=vocab_size, output_dim=embedding_dim)(inputs)\n",
        "x = transformer_block(x)\n",
        "x = tf.keras.layers.GlobalAveragePooling1D()(x)\n",
        "x = tf.keras.layers.Dense(20, activation='relu')(x)\n",
        "outputs = tf.keras.layers.Dense(1, activation='sigmoid')(x)"
      ],
      "metadata": {
        "id": "V4_HcuGHZ9Jo"
      },
      "execution_count": 42,
      "outputs": []
    },
    {
      "cell_type": "code",
      "source": [
        "model = tf.keras.Model(inputs=inputs, outputs=outputs)\n",
        "model.summary()"
      ],
      "metadata": {
        "colab": {
          "base_uri": "https://localhost:8080/"
        },
        "id": "7LQDIcX_Z-HR",
        "outputId": "2683ebd8-0f3c-47cb-8b27-1edad35bb9ea"
      },
      "execution_count": 43,
      "outputs": [
        {
          "output_type": "stream",
          "name": "stdout",
          "text": [
            "Model: \"model\"\n",
            "_________________________________________________________________\n",
            " Layer (type)                Output Shape              Param #   \n",
            "=================================================================\n",
            " input_1 (InputLayer)        [(None, 100)]             0         \n",
            "                                                                 \n",
            " embedding_1 (Embedding)     (None, 100, 32)           1858080   \n",
            "                                                                 \n",
            " transformer_block (Transfor  (None, 100, 32)          10656     \n",
            " merBlock)                                                       \n",
            "                                                                 \n",
            " global_average_pooling1d (G  (None, 32)               0         \n",
            " lobalAveragePooling1D)                                          \n",
            "                                                                 \n",
            " dense_3 (Dense)             (None, 20)                660       \n",
            "                                                                 \n",
            " dense_4 (Dense)             (None, 1)                 21        \n",
            "                                                                 \n",
            "=================================================================\n",
            "Total params: 1,869,417\n",
            "Trainable params: 1,869,417\n",
            "Non-trainable params: 0\n",
            "_________________________________________________________________\n"
          ]
        }
      ]
    },
    {
      "cell_type": "code",
      "source": [
        "model.compile(optimizer=tf.keras.optimizers.Adam(1e-3),\n",
        "              loss = tf.keras.losses.BinaryCrossentropy(from_logits=False),\n",
        "              metrics=['accuracy'])"
      ],
      "metadata": {
        "id": "ZuHuBiB-Z_eb"
      },
      "execution_count": 44,
      "outputs": []
    },
    {
      "cell_type": "code",
      "source": [
        "history = model.fit(train_data, validation_data = valid_data, epochs=5)"
      ],
      "metadata": {
        "colab": {
          "base_uri": "https://localhost:8080/"
        },
        "id": "u0nvdJlJaAiy",
        "outputId": "a5df2fe9-01c4-4f58-ad40-7f71081a31d1"
      },
      "execution_count": 45,
      "outputs": [
        {
          "output_type": "stream",
          "name": "stdout",
          "text": [
            "Epoch 1/5\n",
            "625/625 [==============================] - 24s 34ms/step - loss: 0.4192 - accuracy: 0.8008 - val_loss: 0.3424 - val_accuracy: 0.8498\n",
            "Epoch 2/5\n",
            "625/625 [==============================] - 21s 34ms/step - loss: 0.1850 - accuracy: 0.9293 - val_loss: 0.4164 - val_accuracy: 0.8454\n",
            "Epoch 3/5\n",
            "625/625 [==============================] - 21s 34ms/step - loss: 0.0975 - accuracy: 0.9677 - val_loss: 0.5730 - val_accuracy: 0.8296\n",
            "Epoch 4/5\n",
            "625/625 [==============================] - 21s 34ms/step - loss: 0.0814 - accuracy: 0.9718 - val_loss: 0.5864 - val_accuracy: 0.8344\n",
            "Epoch 5/5\n",
            "625/625 [==============================] - 21s 34ms/step - loss: 0.0507 - accuracy: 0.9839 - val_loss: 0.6289 - val_accuracy: 0.8286\n"
          ]
        }
      ]
    },
    {
      "cell_type": "code",
      "source": [
        "test_results = model.evaluate(test_data)\n",
        "print('테스트 정확도: {: .2f}%'.format(test_results[1]*100))"
      ],
      "metadata": {
        "colab": {
          "base_uri": "https://localhost:8080/"
        },
        "id": "cy4ZkWpYaB0X",
        "outputId": "084bde51-f98f-4721-81c2-0315faf2bdc9"
      },
      "execution_count": 46,
      "outputs": [
        {
          "output_type": "stream",
          "name": "stdout",
          "text": [
            "782/782 [==============================] - 20s 26ms/step - loss: 0.6490 - accuracy: 0.8260\n",
            "테스트 정확도:  82.60%\n"
          ]
        }
      ]
    }
  ],
  "metadata": {
    "kernelspec": {
      "display_name": "base",
      "language": "python",
      "name": "python3"
    },
    "language_info": {
      "codemirror_mode": {
        "name": "ipython",
        "version": 3
      },
      "file_extension": ".py",
      "mimetype": "text/x-python",
      "name": "python",
      "nbconvert_exporter": "python",
      "pygments_lexer": "ipython3",
      "version": "3.9.15"
    },
    "orig_nbformat": 4,
    "vscode": {
      "interpreter": {
        "hash": "41720efa99c50ecab60ad0cd935fc5514610d7d54b05ae36c29aa89ce0a32759"
      }
    },
    "colab": {
      "provenance": [],
      "machine_shape": "hm"
    },
    "accelerator": "GPU",
    "gpuClass": "premium"
  },
  "nbformat": 4,
  "nbformat_minor": 0
}