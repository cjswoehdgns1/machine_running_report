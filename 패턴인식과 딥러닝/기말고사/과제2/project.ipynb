{
  "cells": [
    {
      "cell_type": "code",
      "execution_count": 2,
      "metadata": {
        "id": "444Blcalhu8f"
      },
      "outputs": [],
      "source": [
        "# 필요한 패키지를 불러옵니다.\n",
        "\n",
        "import tensorflow as tf\n",
        "import tensorflow_datasets as tfds\n",
        "import matplotlib.pyplot as plt\n",
        "from tensorflow.keras.applications.resnet50 import ResNet50\n",
        "from tensorflow.keras.applications.resnet50 import preprocess_input\n",
        "import numpy as np\n",
        "%matplotlib inline"
      ]
    },
    {
      "cell_type": "code",
      "execution_count": 3,
      "metadata": {
        "colab": {
          "base_uri": "https://localhost:8080/"
        },
        "id": "JMAw5fHa_246",
        "outputId": "9561c8ed-6f1c-42d7-aab0-b743110b8e36"
      },
      "outputs": [
        {
          "name": "stdout",
          "output_type": "stream",
          "text": [
            "Downloading data from https://www.cs.toronto.edu/~kriz/cifar-100-python.tar.gz\n",
            "169001437/169001437 [==============================] - 4s 0us/step\n"
          ]
        }
      ],
      "source": [
        "# 텐서플로우 데이터셋의 cifar100 데이터 셋을 불러옵니다.\n",
        "# 사전에 데이터 로드시 super class 라벨을 가져옵니다.\n",
        "\n",
        "(train_images, train_labels), (valid_images, valid_labels) = tf.keras.datasets.cifar100.load_data(\n",
        "    label_mode='coarse'\n",
        ")"
      ]
    },
    {
      "cell_type": "code",
      "execution_count": null,
      "metadata": {
        "id": "-Ekqd5-6LTnF"
      },
      "outputs": [],
      "source": [
        "# 전이학습을 위한 전처리 함수를 정의합니다.\n",
        "\n",
        "def preprocess_image_input(input_images):\n",
        "  input_images = input_images.astype('float32')\n",
        "  output_images = tf.keras.applications.resnet50.preprocess_input(input_images)\n",
        "  return output_images"
      ]
    },
    {
      "cell_type": "code",
      "execution_count": null,
      "metadata": {
        "id": "LPgMMdeDOZHw"
      },
      "outputs": [],
      "source": [
        "# 이미지를 전처리하여 할당합니다.\n",
        "\n",
        "train_X = preprocess_image_input(train_images)\n",
        "valid_X = preprocess_image_input(valid_images)"
      ]
    },
    {
      "cell_type": "code",
      "execution_count": null,
      "metadata": {
        "id": "KSE4AGXiPrw7"
      },
      "outputs": [],
      "source": [
        "# 미리 학습된 모델을 로드합니다.\n",
        "feature_extractor = tf.keras.applications.resnet.ResNet50(\n",
        "  input_shape=(224, 224, 3),\n",
        "  include_top = False,\n",
        "  weights='imagenet'\n",
        ")"
      ]
    },
    {
      "cell_type": "code",
      "execution_count": null,
      "metadata": {
        "id": "UNMw6QOpP-7l"
      },
      "outputs": [],
      "source": [
        "# 특징추출기를 동결합니다.\n",
        "feature_extractor.trainable = False"
      ]
    },
    {
      "cell_type": "code",
      "execution_count": null,
      "metadata": {
        "id": "NKk2H8G_QHsW"
      },
      "outputs": [],
      "source": [
        "# 함수형 케라스 API를 호출합니다.\n",
        "\n",
        "inputs = tf.keras.Input(shape=(32, 32, 3))\n",
        "x = tf.keras.layers.UpSampling2D(size=(7, 7))(inputs)\n",
        "x = feature_extractor(x)\n",
        "x = tf.keras.layers.GlobalAveragePooling2D()(x)\n",
        "x = tf.keras.layers.Dense(1024, activation='relu')(x)\n",
        "x = tf.keras.layers.Dense(512, activation='relu')(x)\n",
        "outputs = tf.keras.layers.Dense(20, activation='softmax', name=\"classification\")(x)"
      ]
    },
    {
      "cell_type": "code",
      "execution_count": null,
      "metadata": {
        "id": "zdHtFaF8RGa0"
      },
      "outputs": [],
      "source": [
        "model = tf.keras.Model(inputs = inputs, outputs= outputs)"
      ]
    },
    {
      "cell_type": "code",
      "execution_count": null,
      "metadata": {
        "id": "cQTpot6YRTDO"
      },
      "outputs": [],
      "source": [
        "# optimizer로 확률적 경사하강법, 손실함수는 SparseCategoricalCrossentropy으로 컴파일합니다.\n",
        "\n",
        "model.compile(optimizer=tf.keras.optimizers.SGD(),\n",
        "              loss=tf.keras.losses.SparseCategoricalCrossentropy(),\n",
        "              metrics=['accuracy'])"
      ]
    },
    {
      "cell_type": "code",
      "execution_count": null,
      "metadata": {
        "colab": {
          "base_uri": "https://localhost:8080/"
        },
        "id": "DM-nk6JdRoD_",
        "outputId": "6358bbba-1c0c-45a6-c065-36f0f855f824"
      },
      "outputs": [
        {
          "name": "stdout",
          "output_type": "stream",
          "text": [
            "Model: \"model\"\n",
            "_________________________________________________________________\n",
            " Layer (type)                Output Shape              Param #   \n",
            "=================================================================\n",
            " input_2 (InputLayer)        [(None, 32, 32, 3)]       0         \n",
            "                                                                 \n",
            " up_sampling2d (UpSampling2D  (None, 224, 224, 3)      0         \n",
            " )                                                               \n",
            "                                                                 \n",
            " resnet50 (Functional)       (None, 7, 7, 2048)        23587712  \n",
            "                                                                 \n",
            " global_average_pooling2d (G  (None, 2048)             0         \n",
            " lobalAveragePooling2D)                                          \n",
            "                                                                 \n",
            " dense (Dense)               (None, 1024)              2098176   \n",
            "                                                                 \n",
            " dense_1 (Dense)             (None, 512)               524800    \n",
            "                                                                 \n",
            " classification (Dense)      (None, 20)                10260     \n",
            "                                                                 \n",
            "=================================================================\n",
            "Total params: 26,220,948\n",
            "Trainable params: 2,633,236\n",
            "Non-trainable params: 23,587,712\n",
            "_________________________________________________________________\n"
          ]
        }
      ],
      "source": [
        "# 사전 학습된 데이터의 input은 224 * 224 이므로 32 * 32 이미지를 업 샘플링하는 레이어를 추가합니다.\n",
        "# GAP - FC 1024 - FC512 층과 레이어의 끝에 FC 20(coarse label)로 구성된 모델입니다.\n",
        "\n",
        "model.summary()"
      ]
    },
    {
      "cell_type": "code",
      "execution_count": null,
      "metadata": {
        "colab": {
          "base_uri": "https://localhost:8080/"
        },
        "id": "9E_J2HqYR2D6",
        "outputId": "b47a575a-40a3-452a-dd40-6467a04cb03f"
      },
      "outputs": [
        {
          "name": "stdout",
          "output_type": "stream",
          "text": [
            "Epoch 1/10\n",
            "782/782 [==============================] - 35s 37ms/step - loss: 1.4823 - accuracy: 0.5336 - val_loss: 1.5903 - val_accuracy: 0.4962\n",
            "Epoch 2/10\n",
            "782/782 [==============================] - 27s 35ms/step - loss: 1.1020 - accuracy: 0.6461 - val_loss: 1.1720 - val_accuracy: 0.6262\n",
            "Epoch 3/10\n",
            "782/782 [==============================] - 27s 35ms/step - loss: 0.9852 - accuracy: 0.6805 - val_loss: 1.0537 - val_accuracy: 0.6562\n",
            "Epoch 4/10\n",
            "782/782 [==============================] - 27s 35ms/step - loss: 0.9095 - accuracy: 0.7064 - val_loss: 1.0284 - val_accuracy: 0.6717\n",
            "Epoch 5/10\n",
            "782/782 [==============================] - 27s 35ms/step - loss: 0.8502 - accuracy: 0.7257 - val_loss: 1.0107 - val_accuracy: 0.6748\n",
            "Epoch 6/10\n",
            "782/782 [==============================] - 28s 36ms/step - loss: 0.8028 - accuracy: 0.7418 - val_loss: 1.1257 - val_accuracy: 0.6431\n",
            "Epoch 7/10\n",
            "782/782 [==============================] - 28s 35ms/step - loss: 0.7583 - accuracy: 0.7565 - val_loss: 1.0034 - val_accuracy: 0.6817\n",
            "Epoch 8/10\n",
            "782/782 [==============================] - 28s 35ms/step - loss: 0.7200 - accuracy: 0.7669 - val_loss: 1.0477 - val_accuracy: 0.6713\n",
            "Epoch 9/10\n",
            "782/782 [==============================] - 28s 35ms/step - loss: 0.6855 - accuracy: 0.7800 - val_loss: 0.9391 - val_accuracy: 0.6997\n",
            "Epoch 10/10\n",
            "782/782 [==============================] - 28s 35ms/step - loss: 0.6517 - accuracy: 0.7914 - val_loss: 1.1010 - val_accuracy: 0.6572\n"
          ]
        }
      ],
      "source": [
        "# 정확도 78%, 손실 0.68정도로 관측됩니다.\n",
        "# 동결하였을 때, 학습속도는 빠르나 정확도가 아쉽습니다.\n",
        "\n",
        "history = model.fit(train_X, train_labels, epochs=10,\n",
        "                    validation_data=(valid_X, valid_labels), batch_size=64, shuffle=True)"
      ]
    },
    {
      "cell_type": "code",
      "execution_count": null,
      "metadata": {
        "colab": {
          "base_uri": "https://localhost:8080/"
        },
        "id": "yhZJAx0hXcl7",
        "outputId": "0a37a6a3-c029-49f3-9552-f6034af73e2a"
      },
      "outputs": [
        {
          "name": "stdout",
          "output_type": "stream",
          "text": [
            "Once deleted, variables cannot be recovered. Proceed (y/[n])? y\n"
          ]
        }
      ],
      "source": [
        "%reset"
      ]
    },
    {
      "cell_type": "code",
      "execution_count": null,
      "metadata": {
        "colab": {
          "base_uri": "https://localhost:8080/"
        },
        "id": "xpExbM8QQNba",
        "outputId": "16eeff3d-72e4-44f8-aca9-3ce410a14a2a"
      },
      "outputs": [
        {
          "name": "stdout",
          "output_type": "stream",
          "text": [
            "Model: \"model_1\"\n",
            "_________________________________________________________________\n",
            " Layer (type)                Output Shape              Param #   \n",
            "=================================================================\n",
            " input_4 (InputLayer)        [(None, 32, 32, 3)]       0         \n",
            "                                                                 \n",
            " up_sampling2d_1 (UpSampling  (None, 224, 224, 3)      0         \n",
            " 2D)                                                             \n",
            "                                                                 \n",
            " resnet50 (Functional)       (None, 7, 7, 2048)        23587712  \n",
            "                                                                 \n",
            " global_average_pooling2d_1   (None, 2048)             0         \n",
            " (GlobalAveragePooling2D)                                        \n",
            "                                                                 \n",
            " dense_2 (Dense)             (None, 1024)              2098176   \n",
            "                                                                 \n",
            " dense_3 (Dense)             (None, 512)               524800    \n",
            "                                                                 \n",
            " classification (Dense)      (None, 20)                10260     \n",
            "                                                                 \n",
            "=================================================================\n",
            "Total params: 26,220,948\n",
            "Trainable params: 26,167,828\n",
            "Non-trainable params: 53,120\n",
            "_________________________________________________________________\n",
            "Epoch 1/10\n",
            "782/782 [==============================] - 90s 109ms/step - loss: 0.9364 - accuracy: 0.7087 - val_loss: 0.5536 - val_accuracy: 0.8217\n",
            "Epoch 2/10\n",
            "782/782 [==============================] - 84s 107ms/step - loss: 0.3257 - accuracy: 0.8963 - val_loss: 0.4728 - val_accuracy: 0.8501\n",
            "Epoch 3/10\n",
            "782/782 [==============================] - 84s 108ms/step - loss: 0.1423 - accuracy: 0.9569 - val_loss: 0.5199 - val_accuracy: 0.8489\n",
            "Epoch 4/10\n",
            "782/782 [==============================] - 84s 108ms/step - loss: 0.0598 - accuracy: 0.9836 - val_loss: 0.4849 - val_accuracy: 0.8678\n",
            "Epoch 5/10\n",
            "782/782 [==============================] - 84s 108ms/step - loss: 0.0266 - accuracy: 0.9942 - val_loss: 0.4566 - val_accuracy: 0.8838\n",
            "Epoch 6/10\n",
            "782/782 [==============================] - 84s 108ms/step - loss: 0.0136 - accuracy: 0.9980 - val_loss: 0.4887 - val_accuracy: 0.8794\n",
            "Epoch 7/10\n",
            "782/782 [==============================] - 84s 108ms/step - loss: 0.0086 - accuracy: 0.9989 - val_loss: 0.4815 - val_accuracy: 0.8892\n",
            "Epoch 8/10\n",
            "782/782 [==============================] - 84s 108ms/step - loss: 0.0061 - accuracy: 0.9993 - val_loss: 0.4877 - val_accuracy: 0.8887\n",
            "Epoch 9/10\n",
            "782/782 [==============================] - 84s 108ms/step - loss: 0.0048 - accuracy: 0.9994 - val_loss: 0.5051 - val_accuracy: 0.8875\n",
            "Epoch 10/10\n",
            "782/782 [==============================] - 84s 108ms/step - loss: 0.0037 - accuracy: 0.9996 - val_loss: 0.5289 - val_accuracy: 0.8830\n"
          ]
        }
      ],
      "source": [
        "# 동일한 형태에서 전체 레이어를 학습할 수 있도록 동결 부분을 제외하였습니다.\n",
        "# 학습 시간은 동결할 때 보다 증가하였으나, 학습성능이 월등히 높은 것을 확인할 수 있습니다.\n",
        "# 정확도는 99.96% 손실은 0.003 수준으로 매우 정확도가 높은 모델이라고 볼 수 있습니다. \n",
        "\n",
        "import tensorflow as tf\n",
        "import tensorflow_datasets as tfds\n",
        "import matplotlib.pyplot as plt\n",
        "from tensorflow.keras.applications.resnet50 import ResNet50\n",
        "from tensorflow.keras.applications.resnet50 import preprocess_input\n",
        "import numpy as np\n",
        "%matplotlib inline\n",
        "\n",
        "(train_images, train_labels), (valid_images, valid_labels) = tf.keras.datasets.cifar100.load_data(\n",
        "    label_mode='coarse'\n",
        ")\n",
        "\n",
        "def preprocess_image_input(input_images):\n",
        "  input_images = input_images.astype('float32')\n",
        "  output_images = tf.keras.applications.resnet50.preprocess_input(input_images)\n",
        "  return output_images\n",
        "\n",
        "train_X = preprocess_image_input(train_images)\n",
        "valid_X = preprocess_image_input(valid_images)\n",
        "\n",
        "feature_extractor = tf.keras.applications.resnet.ResNet50(\n",
        "  input_shape=(224, 224, 3),\n",
        "  include_top = False,\n",
        "  weights='imagenet'\n",
        ")\n",
        "\n",
        "# feature_extractor.trainable = False\n",
        "\n",
        "inputs = tf.keras.Input(shape=(32, 32, 3))\n",
        "x = tf.keras.layers.UpSampling2D(size=(7, 7))(inputs)\n",
        "x = feature_extractor(x)\n",
        "x = tf.keras.layers.GlobalAveragePooling2D()(x)\n",
        "x = tf.keras.layers.Dense(1024, activation='relu')(x)\n",
        "x = tf.keras.layers.Dense(512, activation='relu')(x)\n",
        "outputs = tf.keras.layers.Dense(20, activation='softmax', name=\"classification\")(x)\n",
        "\n",
        "model = tf.keras.Model(inputs = inputs, outputs= outputs)\n",
        "\n",
        "model.compile(optimizer=tf.keras.optimizers.SGD(),\n",
        "              loss=tf.keras.losses.SparseCategoricalCrossentropy(),\n",
        "              metrics=['accuracy'])\n",
        "\n",
        "model.summary()\n",
        "\n",
        "history = model.fit(train_X, train_labels, epochs=10,\n",
        "                    validation_data=(valid_X, valid_labels), batch_size=64, shuffle=True)"
      ]
    }
  ],
  "metadata": {
    "colab": {
      "provenance": []
    },
    "gpuClass": "standard",
    "kernelspec": {
      "display_name": "Python ('neural')",
      "language": "python",
      "name": "python3"
    },
    "language_info": {
      "codemirror_mode": {
        "name": "ipython",
        "version": 3
      },
      "file_extension": ".py",
      "mimetype": "text/x-python",
      "name": "python",
      "nbconvert_exporter": "python",
      "pygments_lexer": "ipython3",
      "version": ""
    },
    "orig_nbformat": 4,
    "vscode": {
      "interpreter": {
        "hash": "25a19fbe0a9132dfb9279d48d161753c6352f8f9478c2e74383d340069b907c3"
      }
    }
  },
  "nbformat": 4,
  "nbformat_minor": 0
}
